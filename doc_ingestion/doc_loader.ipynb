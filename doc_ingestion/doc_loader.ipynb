{
 "cells": [
  {
   "cell_type": "code",
   "execution_count": 15,
   "metadata": {},
   "outputs": [
    {
     "data": {
      "text/plain": [
       "True"
      ]
     },
     "execution_count": 15,
     "metadata": {},
     "output_type": "execute_result"
    }
   ],
   "source": [
    "from dotenv import load_dotenv\n",
    "\n",
    "load_dotenv()"
   ]
  },
  {
   "cell_type": "code",
   "execution_count": 16,
   "metadata": {},
   "outputs": [],
   "source": [
    "import os\n",
    "\n",
    "from langchain.indexes import SQLRecordManager\n",
    "\n",
    "POSTGRES_DB_URI = os.getenv(\"POSTGRES_DB_URI\")\n",
    "\n",
    "namespace = \"postgres/sharepoint_docs\"\n",
    "record_manager = SQLRecordManager(namespace=namespace, db_url=POSTGRES_DB_URI)\n",
    "record_manager.create_schema()"
   ]
  },
  {
   "cell_type": "code",
   "execution_count": 17,
   "metadata": {},
   "outputs": [
    {
     "data": {
      "text/plain": [
       "[Document(metadata={'source': 'https://aquachile.sharepoint.com/sites/aqua_pdf/Documentos%20compartidos/compliance/reglamentos/AQ-PO-AUD-001%20C%C3%B3digo%20Conducta%20en%20Los%20Negocios%20AQ.pdf', 'file_path': 'https://aquachile.sharepoint.com/sites/aqua_pdf/Documentos%20compartidos/compliance/reglamentos/AQ-PO-AUD-001%20C%C3%B3digo%20Conducta%20en%20Los%20Negocios%20AQ.pdf', 'page': 0, 'total_pages': 25, 'format': 'PDF 1.6', 'title': 'CdC 2023', 'author': '', 'subject': '', 'keywords': '', 'creator': 'Adobe Illustrator 28.0 (Macintosh)', 'producer': 'iLovePDF', 'creationDate': \"D:20231215133914-03'00'\", 'modDate': 'D:20231218135108Z', 'trapped': ''}, page_content='2023\\n'),\n",
       " Document(metadata={'source': 'https://aquachile.sharepoint.com/sites/aqua_pdf/Documentos%20compartidos/compliance/reglamentos/AQ-PO-AUD-001%20C%C3%B3digo%20Conducta%20en%20Los%20Negocios%20AQ.pdf', 'file_path': 'https://aquachile.sharepoint.com/sites/aqua_pdf/Documentos%20compartidos/compliance/reglamentos/AQ-PO-AUD-001%20C%C3%B3digo%20Conducta%20en%20Los%20Negocios%20AQ.pdf', 'page': 1, 'total_pages': 25, 'format': 'PDF 1.6', 'title': 'CdC 2023', 'author': '', 'subject': '', 'keywords': '', 'creator': 'Adobe Illustrator 28.0 (Macintosh)', 'producer': 'iLovePDF', 'creationDate': \"D:20231215133914-03'00'\", 'modDate': 'D:20231218135108Z', 'trapped': ''}, page_content='AQUACHILE  S.A  Y  FILIALES\\nEl Código de Conducta en los Negocios de Empresas AquaChile recoge \\nlo que ha sido nuestra forma de actuar por más de 30 años y constituye \\nuna guía para que cada colaborador, independiente de su rango \\njerárquico, promueva un actuar basado en un comportamiento cuyos \\nsellos distintivos sean la transparencia y honestidad en cada una de las \\nactividades que desempeñamos.\\nDe esta manera,  AquaChile y sus Filiales, han deﬁnido como una de sus \\nﬁnalidades esenciales para el desarrollo de sus actividades, que en \\ncada una de las etapas de producción, elaboración, distribución y \\ncomercialización de nuestros productos, tanto los directores como los \\nejecutivos y colaboradores, cumplan siempre las normas y \\nregulaciones vigentes.\\nEn este Código de Conducta, la Compañía ha resumido aquellos \\nprincipios, valores éticos y de conducta esenciales en los que deben \\nenmarcarse las actuaciones de directores, ejecutivos y colaboradores \\nde AquaChile y sus sociedades Filiales, sin excepción.\\n>>\\n'),\n",
       " Document(metadata={'source': 'https://aquachile.sharepoint.com/sites/aqua_pdf/Documentos%20compartidos/compliance/reglamentos/AQ-PO-AUD-001%20C%C3%B3digo%20Conducta%20en%20Los%20Negocios%20AQ.pdf', 'file_path': 'https://aquachile.sharepoint.com/sites/aqua_pdf/Documentos%20compartidos/compliance/reglamentos/AQ-PO-AUD-001%20C%C3%B3digo%20Conducta%20en%20Los%20Negocios%20AQ.pdf', 'page': 2, 'total_pages': 25, 'format': 'PDF 1.6', 'title': 'CdC 2023', 'author': '', 'subject': '', 'keywords': '', 'creator': 'Adobe Illustrator 28.0 (Macintosh)', 'producer': 'iLovePDF', 'creationDate': \"D:20231215133914-03'00'\", 'modDate': 'D:20231218135108Z', 'trapped': ''}, page_content='NUESTRO COMPROMISO\\nAquaChile a través de este Código, refuerza su compromiso ético y en \\nforma explícita contra la corrupción en cualquiera de sus formas y \\nmediante cualquier tipo de conducta. Nuestro patrimonio valórico \\nsiempre ha estado determinado por cuatro pilares fundamentales:\\nLas Personas con quienes trabajamos y con las  que queremos \\ncontar;\\nLa Gestión que se traduce en la forma en que se  trabaja y \\nadministra;\\nLas Ideas que orientan las decisiones del  negocio.\\nLa Sustentabilidad, dimensión que aborda la  preocupación, el \\ntrabajo permanente y  responsable en los distintos ámbitos de \\nnuestro  quehacer cotidiano, tales como nuestra relación  con las \\ncomunidades vecinas, la preocupación  por el medio ambiente y \\nnuestra gestión  ﬁnanciera, entre otros aspectos.\\nLos integrantes de esta gran comunidad sobresalen por el alma y \\npasión que ponen en el trabajo; la honestidad y el valor de la palabra \\nempeñada; la sencillez y austeridad en la forma de ser y de actuar; el \\nespíritu emprendedor; la responsabilidad y disciplina; la conﬁanza y el \\ncompromiso con que enfrentamos nuestro quehacer.\\nTE INVITAMOS A COMPRENDER LA IMPORTANCIA DE ESTE \\nDOCUMENTO Y  A VIVIR NUESTROS VALORES. \\n>>\\n>>\\n>>\\n>>\\n'),\n",
       " Document(metadata={'source': 'https://aquachile.sharepoint.com/sites/aqua_pdf/Documentos%20compartidos/compliance/reglamentos/AQ-PO-AUD-001%20C%C3%B3digo%20Conducta%20en%20Los%20Negocios%20AQ.pdf', 'file_path': 'https://aquachile.sharepoint.com/sites/aqua_pdf/Documentos%20compartidos/compliance/reglamentos/AQ-PO-AUD-001%20C%C3%B3digo%20Conducta%20en%20Los%20Negocios%20AQ.pdf', 'page': 3, 'total_pages': 25, 'format': 'PDF 1.6', 'title': 'CdC 2023', 'author': '', 'subject': '', 'keywords': '', 'creator': 'Adobe Illustrator 28.0 (Macintosh)', 'producer': 'iLovePDF', 'creationDate': \"D:20231215133914-03'00'\", 'modDate': 'D:20231218135108Z', 'trapped': ''}, page_content='I .\\nNUESTRAS CONVICCIONES\\nLos valores que rigen nuestro actuar \\n'),\n",
       " Document(metadata={'source': 'https://aquachile.sharepoint.com/sites/aqua_pdf/Documentos%20compartidos/compliance/reglamentos/AQ-PO-AUD-001%20C%C3%B3digo%20Conducta%20en%20Los%20Negocios%20AQ.pdf', 'file_path': 'https://aquachile.sharepoint.com/sites/aqua_pdf/Documentos%20compartidos/compliance/reglamentos/AQ-PO-AUD-001%20C%C3%B3digo%20Conducta%20en%20Los%20Negocios%20AQ.pdf', 'page': 4, 'total_pages': 25, 'format': 'PDF 1.6', 'title': 'CdC 2023', 'author': '', 'subject': '', 'keywords': '', 'creator': 'Adobe Illustrator 28.0 (Macintosh)', 'producer': 'iLovePDF', 'creationDate': \"D:20231215133914-03'00'\", 'modDate': 'D:20231218135108Z', 'trapped': ''}, page_content='Compromiso: Cumplimos fehacientemente los  compromisos y \\nla palabra empeñada.\\nHonestidad: Las personas que trabajan en AquaChile muestran \\nun comportamiento íntegro y honesto en su quehacer y en la \\ninteracción con los otros.\\nCompañerismo: Las relaciones que se establecen en AquaChile \\nentre colaboradores, proveedores y miembros de la comunidad, \\nson en base a la conﬁanza, y procuramos cultivarla día a día \\nsiendo competentes, sinceros y sencillos, actuando con \\nresponsabilidad y compromiso.\\nAusteridad: Realizamos nuestro quehacer cuidando y manejando \\ncon mesura los recursos disponibles, maximizando la utilización \\nde éstos  y resguardando los bienes de la compañía.\\n>>\\n>>\\n>>\\n>>\\n>>\\n>>\\nVALORES QUE  RIGEN NUESTRO  ACTUAR \\nFomentamos que el actuar de cada uno de  nuestros \\ncolaboradores \\nsea \\nconsistente \\ncon \\n \\nnuestra \\ncultura, \\ndemostrándolo en todas las  acciones cotidianas; con los \\nmiembros de la  organización, clientes, proveedores, \\ncomunidades y diferentes grupos de interés que se relacionan \\ncon quienes nos relacionamos. \\nA esto último le llamamos integridad.\\nRespeto: Procuramos establecer relaciones de  apertura, respeto \\ny ﬂuidez con las distintas  personas y grupos al interior de la \\norganización  y su entorno, promoviendo una actitud positiva  de \\nconvivencia dentro y fuera de la empresa.\\nVocación de Servicio: Mostramos un esfuerzo  consistente por \\nescuchar y generar relaciones  duraderas con los clientes \\n(internos – externos y  consumidores), anticipándonos a sus \\nnecesidades y demandas para asegurar su satisfacción.\\nExcelencia e Innovación: Orientamos todos los  esfuerzos hacia \\nel cumplimiento del trabajo,  más allá de los estándares \\nregulares, estableciendo parámetros elevados de calidad y \\neﬁciencia. Innovamos permanentemente para  agregar valor y \\ncontribuir a la mejora continua.\\n>>\\n')]"
      ]
     },
     "execution_count": 17,
     "metadata": {},
     "output_type": "execute_result"
    }
   ],
   "source": [
    "from langchain_community.document_loaders import SharePointLoader\n",
    "\n",
    "DOCUMENT_LIBRARY_ID = os.getenv(\"DOCUMENT_LIBRARY_ID\")\n",
    "\n",
    "\n",
    "loader = SharePointLoader(\n",
    "    document_library_id=DOCUMENT_LIBRARY_ID,\n",
    "    auth_with_token=True,\n",
    "    folder_path=\"/compliance/reglamentos\",\n",
    ")\n",
    "docs = loader.load()\n",
    "docs[:5]"
   ]
  },
  {
   "cell_type": "code",
   "execution_count": 18,
   "metadata": {},
   "outputs": [
    {
     "data": {
      "text/plain": [
       "Document(metadata={'source': 'https://aquachile.sharepoint.com/sites/aqua_pdf/Documentos%20compartidos/compliance/reglamentos/Video%20MPD%20-%20Jose%20Melville.pdf', 'file_path': 'https://aquachile.sharepoint.com/sites/aqua_pdf/Documentos%20compartidos/compliance/reglamentos/Video%20MPD%20-%20Jose%20Melville.pdf', 'page': 1, 'total_pages': 2, 'format': 'PDF 1.7', 'title': '', 'author': 'Vanessa Noemi Peña Lopez', 'subject': '', 'keywords': '', 'creator': 'Microsoft® Word para Microsoft 365', 'producer': 'Microsoft® Word para Microsoft 365', 'creationDate': \"D:20241122120705-03'00'\", 'modDate': \"D:20241122120705-03'00'\", 'trapped': ''}, page_content='La Ley refuerza los requisitos mínimos para que las empresas puedan fomentar un \\nambiente de autocontrol que demuestre que tienen un Modelo de Prevención de \\nDelitos efectivo.  \\n \\nTe invitamos a que complementes lo aprendido, continúa leyendo lo que sigue a \\ncontinuación.  \\n \\n')"
      ]
     },
     "execution_count": 18,
     "metadata": {},
     "output_type": "execute_result"
    }
   ],
   "source": [
    "docs[len(docs) - 1]"
   ]
  },
  {
   "cell_type": "code",
   "execution_count": 19,
   "metadata": {},
   "outputs": [
    {
     "data": {
      "text/plain": [
       "[Document(metadata={'source': 'https://aquachile.sharepoint.com/sites/aqua_pdf/Documentos%20compartidos/compliance/reglamentos/AQ-PO-AUD-001%20C%C3%B3digo%20Conducta%20en%20Los%20Negocios%20AQ.pdf', 'file_path': 'https://aquachile.sharepoint.com/sites/aqua_pdf/Documentos%20compartidos/compliance/reglamentos/AQ-PO-AUD-001%20C%C3%B3digo%20Conducta%20en%20Los%20Negocios%20AQ.pdf', 'page': 0, 'total_pages': 25, 'format': 'PDF 1.6', 'title': 'CdC 2023', 'author': '', 'subject': '', 'keywords': '', 'creator': 'Adobe Illustrator 28.0 (Macintosh)', 'producer': 'iLovePDF', 'creationDate': \"D:20231215133914-03'00'\", 'modDate': 'D:20231218135108Z', 'trapped': ''}, page_content='2023'),\n",
       " Document(metadata={'source': 'https://aquachile.sharepoint.com/sites/aqua_pdf/Documentos%20compartidos/compliance/reglamentos/AQ-PO-AUD-001%20C%C3%B3digo%20Conducta%20en%20Los%20Negocios%20AQ.pdf', 'file_path': 'https://aquachile.sharepoint.com/sites/aqua_pdf/Documentos%20compartidos/compliance/reglamentos/AQ-PO-AUD-001%20C%C3%B3digo%20Conducta%20en%20Los%20Negocios%20AQ.pdf', 'page': 1, 'total_pages': 25, 'format': 'PDF 1.6', 'title': 'CdC 2023', 'author': '', 'subject': '', 'keywords': '', 'creator': 'Adobe Illustrator 28.0 (Macintosh)', 'producer': 'iLovePDF', 'creationDate': \"D:20231215133914-03'00'\", 'modDate': 'D:20231218135108Z', 'trapped': ''}, page_content='AQUACHILE  S.A  Y  FILIALES\\nEl Código de Conducta en los Negocios de Empresas AquaChile recoge \\nlo que ha sido nuestra forma de actuar por más de 30 años y constituye \\nuna guía para que cada colaborador, independiente de su rango \\njerárquico, promueva un actuar basado en un comportamiento cuyos \\nsellos distintivos sean la transparencia y honestidad en cada una de las \\nactividades que desempeñamos.\\nDe esta manera,  AquaChile y sus Filiales, han deﬁnido como una de sus \\nﬁnalidades esenciales para el desarrollo de sus actividades, que en \\ncada una de las etapas de producción, elaboración, distribución y \\ncomercialización de nuestros productos, tanto los directores como los \\nejecutivos y colaboradores, cumplan siempre las normas y \\nregulaciones vigentes.\\nEn este Código de Conducta, la Compañía ha resumido aquellos \\nprincipios, valores éticos y de conducta esenciales en los que deben \\nenmarcarse las actuaciones de directores, ejecutivos y colaboradores'),\n",
       " Document(metadata={'source': 'https://aquachile.sharepoint.com/sites/aqua_pdf/Documentos%20compartidos/compliance/reglamentos/AQ-PO-AUD-001%20C%C3%B3digo%20Conducta%20en%20Los%20Negocios%20AQ.pdf', 'file_path': 'https://aquachile.sharepoint.com/sites/aqua_pdf/Documentos%20compartidos/compliance/reglamentos/AQ-PO-AUD-001%20C%C3%B3digo%20Conducta%20en%20Los%20Negocios%20AQ.pdf', 'page': 1, 'total_pages': 25, 'format': 'PDF 1.6', 'title': 'CdC 2023', 'author': '', 'subject': '', 'keywords': '', 'creator': 'Adobe Illustrator 28.0 (Macintosh)', 'producer': 'iLovePDF', 'creationDate': \"D:20231215133914-03'00'\", 'modDate': 'D:20231218135108Z', 'trapped': ''}, page_content='principios, valores éticos y de conducta esenciales en los que deben \\nenmarcarse las actuaciones de directores, ejecutivos y colaboradores \\nde AquaChile y sus sociedades Filiales, sin excepción.\\n>>'),\n",
       " Document(metadata={'source': 'https://aquachile.sharepoint.com/sites/aqua_pdf/Documentos%20compartidos/compliance/reglamentos/AQ-PO-AUD-001%20C%C3%B3digo%20Conducta%20en%20Los%20Negocios%20AQ.pdf', 'file_path': 'https://aquachile.sharepoint.com/sites/aqua_pdf/Documentos%20compartidos/compliance/reglamentos/AQ-PO-AUD-001%20C%C3%B3digo%20Conducta%20en%20Los%20Negocios%20AQ.pdf', 'page': 2, 'total_pages': 25, 'format': 'PDF 1.6', 'title': 'CdC 2023', 'author': '', 'subject': '', 'keywords': '', 'creator': 'Adobe Illustrator 28.0 (Macintosh)', 'producer': 'iLovePDF', 'creationDate': \"D:20231215133914-03'00'\", 'modDate': 'D:20231218135108Z', 'trapped': ''}, page_content='NUESTRO COMPROMISO\\nAquaChile a través de este Código, refuerza su compromiso ético y en \\nforma explícita contra la corrupción en cualquiera de sus formas y \\nmediante cualquier tipo de conducta. Nuestro patrimonio valórico \\nsiempre ha estado determinado por cuatro pilares fundamentales:\\nLas Personas con quienes trabajamos y con las  que queremos \\ncontar;\\nLa Gestión que se traduce en la forma en que se  trabaja y \\nadministra;\\nLas Ideas que orientan las decisiones del  negocio.\\nLa Sustentabilidad, dimensión que aborda la  preocupación, el \\ntrabajo permanente y  responsable en los distintos ámbitos de \\nnuestro  quehacer cotidiano, tales como nuestra relación  con las \\ncomunidades vecinas, la preocupación  por el medio ambiente y \\nnuestra gestión  ﬁnanciera, entre otros aspectos.\\nLos integrantes de esta gran comunidad sobresalen por el alma y \\npasión que ponen en el trabajo; la honestidad y el valor de la palabra \\nempeñada; la sencillez y austeridad en la forma de ser y de actuar; el'),\n",
       " Document(metadata={'source': 'https://aquachile.sharepoint.com/sites/aqua_pdf/Documentos%20compartidos/compliance/reglamentos/AQ-PO-AUD-001%20C%C3%B3digo%20Conducta%20en%20Los%20Negocios%20AQ.pdf', 'file_path': 'https://aquachile.sharepoint.com/sites/aqua_pdf/Documentos%20compartidos/compliance/reglamentos/AQ-PO-AUD-001%20C%C3%B3digo%20Conducta%20en%20Los%20Negocios%20AQ.pdf', 'page': 2, 'total_pages': 25, 'format': 'PDF 1.6', 'title': 'CdC 2023', 'author': '', 'subject': '', 'keywords': '', 'creator': 'Adobe Illustrator 28.0 (Macintosh)', 'producer': 'iLovePDF', 'creationDate': \"D:20231215133914-03'00'\", 'modDate': 'D:20231218135108Z', 'trapped': ''}, page_content='pasión que ponen en el trabajo; la honestidad y el valor de la palabra \\nempeñada; la sencillez y austeridad en la forma de ser y de actuar; el \\nespíritu emprendedor; la responsabilidad y disciplina; la conﬁanza y el \\ncompromiso con que enfrentamos nuestro quehacer.\\nTE INVITAMOS A COMPRENDER LA IMPORTANCIA DE ESTE \\nDOCUMENTO Y  A VIVIR NUESTROS VALORES. \\n>>\\n>>\\n>>\\n>>')]"
      ]
     },
     "execution_count": 19,
     "metadata": {},
     "output_type": "execute_result"
    }
   ],
   "source": [
    "from langchain.text_splitter import RecursiveCharacterTextSplitter\n",
    "\n",
    "splitter = RecursiveCharacterTextSplitter(chunk_size=1000, chunk_overlap=200)\n",
    "split_docs = splitter.split_documents(docs)\n",
    "split_docs[:5]"
   ]
  },
  {
   "cell_type": "code",
   "execution_count": 20,
   "metadata": {},
   "outputs": [],
   "source": [
    "from langchain_community.vectorstores import AzureSearch\n",
    "from langchain_openai.embeddings import AzureOpenAIEmbeddings\n",
    "\n",
    "AZURE_AI_SEARCH_ENDPOINT = os.getenv(\"AZURE_AI_SEARCH_ENDPOINT\")\n",
    "AZURE_AI_SEARCH_API_KEY = os.getenv(\"AZURE_AI_SEARCH_API_KEY\")\n",
    "AZURE_AI_SEARCH_INDEX_NAME = os.getenv(\"AZURE_AI_SEARCH_INDEX_NAME\")\n",
    "\n",
    "EMBEDDINGS = AzureOpenAIEmbeddings(deployment=\"text-embedding-3-small\")\n",
    "\n",
    "vectorstore = AzureSearch(\n",
    "    azure_search_endpoint=AZURE_AI_SEARCH_ENDPOINT,\n",
    "    azure_search_key=AZURE_AI_SEARCH_API_KEY,\n",
    "    index_name=AZURE_AI_SEARCH_INDEX_NAME,\n",
    "    embedding_function=EMBEDDINGS.embed_query,\n",
    "    additional_search_client_options={\"retry_total\": 4},\n",
    ")"
   ]
  },
  {
   "cell_type": "code",
   "execution_count": 21,
   "metadata": {},
   "outputs": [
    {
     "data": {
      "text/plain": [
       "{'num_added': 9, 'num_updated': 0, 'num_skipped': 84, 'num_deleted': 0}"
      ]
     },
     "execution_count": 21,
     "metadata": {},
     "output_type": "execute_result"
    }
   ],
   "source": [
    "from langchain.indexes import index\n",
    "\n",
    "index(\n",
    "    split_docs,\n",
    "    record_manager,\n",
    "    vectorstore,\n",
    "    cleanup=\"incremental\",\n",
    "    source_id_key=\"source\",\n",
    ")"
   ]
  },
  {
   "cell_type": "code",
   "execution_count": 22,
   "metadata": {},
   "outputs": [
    {
     "data": {
      "text/plain": [
       "'3.2  CÓDIGO DE CONDUCTA EN LOS NEGOCIOS \\nDocumento que contiene reglas para que cada empleado, independiente de su rango jerárquico, \\npromueva una conducta basada en un comportamiento cuyos sellos distintivos, sea la rectitud u \\nhonestidad, en cada una de sus acciones.'"
      ]
     },
     "execution_count": 22,
     "metadata": {},
     "output_type": "execute_result"
    }
   ],
   "source": [
    "retrieved_doc = vectorstore.similarity_search(\n",
    "    query=\"conducta\",\n",
    "    k=3,\n",
    "    search_type=\"similarity\",\n",
    ")\n",
    "retrieved_doc[0].page_content"
   ]
  }
 ],
 "metadata": {
  "kernelspec": {
   "display_name": "venv",
   "language": "python",
   "name": "python3"
  },
  "language_info": {
   "codemirror_mode": {
    "name": "ipython",
    "version": 3
   },
   "file_extension": ".py",
   "mimetype": "text/x-python",
   "name": "python",
   "nbconvert_exporter": "python",
   "pygments_lexer": "ipython3",
   "version": "3.11.9"
  }
 },
 "nbformat": 4,
 "nbformat_minor": 2
}
