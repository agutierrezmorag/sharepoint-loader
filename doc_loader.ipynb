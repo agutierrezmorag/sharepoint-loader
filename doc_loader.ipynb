{
 "cells": [
  {
   "cell_type": "code",
   "execution_count": 1,
   "metadata": {},
   "outputs": [],
   "source": [
    "import os\n",
    "\n",
    "AZURE_OPENAI_API_KEY = os.getenv(\"AZURE_OPENAI_API_KEY\")\n",
    "AZURE_OPENAI_ENDPOINT = os.getenv(\"AZURE_OPENAI_ENDPOINT\")\n",
    "OPENAI_API_VERSION = os.getenv(\"OPENAI_API_VERSION\")\n",
    "\n",
    "AZURE_AI_SEARCH_ENDPOINT = os.getenv(\"AZURE_AI_SEARCH_ENDPOINT\")\n",
    "AZURE_AI_SEARCH_API_KEY = os.getenv(\"AZURE_AI_SEARCH_API_KEY\")\n",
    "\n",
    "O365_CLIENT_ID = os.getenv(\"O365_CLIENT_ID\")\n",
    "O365_CLIENT_SECRET = os.getenv(\"O365_CLIENT_SECRET\")\n",
    "DOCUMENT_LIBRARY_ID = os.getenv(\"DOCUMENT_LIBRARY_ID\")\n"
   ]
  },
  {
   "cell_type": "code",
   "execution_count": 2,
   "metadata": {},
   "outputs": [],
   "source": [
    "from langchain_openai import AzureOpenAIEmbeddings\n",
    "\n",
    "\n",
    "EMBEDDINGS_MODEL = AzureOpenAIEmbeddings(\n",
    "    openai_api_key=AZURE_OPENAI_API_KEY,\n",
    "    azure_endpoint=AZURE_OPENAI_ENDPOINT,\n",
    "    azure_deployment=\"text-embedding-3-small\",\n",
    "    model=\"text-embedding-3-small\",\n",
    ")"
   ]
  },
  {
   "cell_type": "code",
   "execution_count": 4,
   "metadata": {},
   "outputs": [
    {
     "name": "stderr",
     "output_type": "stream",
     "text": [
      "c:\\Users\\alvaro.gutierrez\\VSCode Projects\\sharepoint-loader\\venv\\Lib\\site-packages\\langchain_community\\document_loaders\\parsers\\pdf.py:299: UserWarning: Warning: Empty content on page 24 of document https://aquachile.sharepoint.com/sites/aqua_pdf/Documentos%20compartidos/compliance/reglamentos/AQ-PO-AUD-001%20C%C3%B3digo%20Conducta%20en%20Los%20Negocios%20AQ.pdf\n",
      "  warnings.warn(\n"
     ]
    },
    {
     "data": {
      "text/plain": [
       "[Document(metadata={'source': 'https://aquachile.sharepoint.com/sites/aqua_pdf/Documentos%20compartidos/compliance/reglamentos/AQ-PO-AUD-001%20C%C3%B3digo%20Conducta%20en%20Los%20Negocios%20AQ.pdf', 'file_path': 'https://aquachile.sharepoint.com/sites/aqua_pdf/Documentos%20compartidos/compliance/reglamentos/AQ-PO-AUD-001%20C%C3%B3digo%20Conducta%20en%20Los%20Negocios%20AQ.pdf', 'page': 0, 'total_pages': 25, 'format': 'PDF 1.6', 'title': 'CdC 2023', 'author': '', 'subject': '', 'keywords': '', 'creator': 'Adobe Illustrator 28.0 (Macintosh)', 'producer': 'iLovePDF', 'creationDate': \"D:20231215133914-03'00'\", 'modDate': 'D:20231218135108Z', 'trapped': ''}, page_content='2023\\n'),\n",
       " Document(metadata={'source': 'https://aquachile.sharepoint.com/sites/aqua_pdf/Documentos%20compartidos/compliance/reglamentos/AQ-PO-AUD-001%20C%C3%B3digo%20Conducta%20en%20Los%20Negocios%20AQ.pdf', 'file_path': 'https://aquachile.sharepoint.com/sites/aqua_pdf/Documentos%20compartidos/compliance/reglamentos/AQ-PO-AUD-001%20C%C3%B3digo%20Conducta%20en%20Los%20Negocios%20AQ.pdf', 'page': 1, 'total_pages': 25, 'format': 'PDF 1.6', 'title': 'CdC 2023', 'author': '', 'subject': '', 'keywords': '', 'creator': 'Adobe Illustrator 28.0 (Macintosh)', 'producer': 'iLovePDF', 'creationDate': \"D:20231215133914-03'00'\", 'modDate': 'D:20231218135108Z', 'trapped': ''}, page_content='AQUACHILE  S.A  Y  FILIALES\\nEl Código de Conducta en los Negocios de Empresas AquaChile recoge \\nlo que ha sido nuestra forma de actuar por más de 30 años y constituye \\nuna guía para que cada colaborador, independiente de su rango \\njerárquico, promueva un actuar basado en un comportamiento cuyos \\nsellos distintivos sean la transparencia y honestidad en cada una de las \\nactividades que desempeñamos.\\nDe esta manera,  AquaChile y sus Filiales, han deﬁnido como una de sus \\nﬁnalidades esenciales para el desarrollo de sus actividades, que en \\ncada una de las etapas de producción, elaboración, distribución y \\ncomercialización de nuestros productos, tanto los directores como los \\nejecutivos y colaboradores, cumplan siempre las normas y \\nregulaciones vigentes.\\nEn este Código de Conducta, la Compañía ha resumido aquellos \\nprincipios, valores éticos y de conducta esenciales en los que deben \\nenmarcarse las actuaciones de directores, ejecutivos y colaboradores \\nde AquaChile y sus sociedades Filiales, sin excepción.\\n>>\\n'),\n",
       " Document(metadata={'source': 'https://aquachile.sharepoint.com/sites/aqua_pdf/Documentos%20compartidos/compliance/reglamentos/AQ-PO-AUD-001%20C%C3%B3digo%20Conducta%20en%20Los%20Negocios%20AQ.pdf', 'file_path': 'https://aquachile.sharepoint.com/sites/aqua_pdf/Documentos%20compartidos/compliance/reglamentos/AQ-PO-AUD-001%20C%C3%B3digo%20Conducta%20en%20Los%20Negocios%20AQ.pdf', 'page': 2, 'total_pages': 25, 'format': 'PDF 1.6', 'title': 'CdC 2023', 'author': '', 'subject': '', 'keywords': '', 'creator': 'Adobe Illustrator 28.0 (Macintosh)', 'producer': 'iLovePDF', 'creationDate': \"D:20231215133914-03'00'\", 'modDate': 'D:20231218135108Z', 'trapped': ''}, page_content='NUESTRO COMPROMISO\\nAquaChile a través de este Código, refuerza su compromiso ético y en \\nforma explícita contra la corrupción en cualquiera de sus formas y \\nmediante cualquier tipo de conducta. Nuestro patrimonio valórico \\nsiempre ha estado determinado por cuatro pilares fundamentales:\\nLas Personas con quienes trabajamos y con las  que queremos \\ncontar;\\nLa Gestión que se traduce en la forma en que se  trabaja y \\nadministra;\\nLas Ideas que orientan las decisiones del  negocio.\\nLa Sustentabilidad, dimensión que aborda la  preocupación, el \\ntrabajo permanente y  responsable en los distintos ámbitos de \\nnuestro  quehacer cotidiano, tales como nuestra relación  con las \\ncomunidades vecinas, la preocupación  por el medio ambiente y \\nnuestra gestión  ﬁnanciera, entre otros aspectos.\\nLos integrantes de esta gran comunidad sobresalen por el alma y \\npasión que ponen en el trabajo; la honestidad y el valor de la palabra \\nempeñada; la sencillez y austeridad en la forma de ser y de actuar; el \\nespíritu emprendedor; la responsabilidad y disciplina; la conﬁanza y el \\ncompromiso con que enfrentamos nuestro quehacer.\\nTE INVITAMOS A COMPRENDER LA IMPORTANCIA DE ESTE \\nDOCUMENTO Y  A VIVIR NUESTROS VALORES. \\n>>\\n>>\\n>>\\n>>\\n'),\n",
       " Document(metadata={'source': 'https://aquachile.sharepoint.com/sites/aqua_pdf/Documentos%20compartidos/compliance/reglamentos/AQ-PO-AUD-001%20C%C3%B3digo%20Conducta%20en%20Los%20Negocios%20AQ.pdf', 'file_path': 'https://aquachile.sharepoint.com/sites/aqua_pdf/Documentos%20compartidos/compliance/reglamentos/AQ-PO-AUD-001%20C%C3%B3digo%20Conducta%20en%20Los%20Negocios%20AQ.pdf', 'page': 3, 'total_pages': 25, 'format': 'PDF 1.6', 'title': 'CdC 2023', 'author': '', 'subject': '', 'keywords': '', 'creator': 'Adobe Illustrator 28.0 (Macintosh)', 'producer': 'iLovePDF', 'creationDate': \"D:20231215133914-03'00'\", 'modDate': 'D:20231218135108Z', 'trapped': ''}, page_content='I .\\nNUESTRAS CONVICCIONES\\nLos valores que rigen nuestro actuar \\n'),\n",
       " Document(metadata={'source': 'https://aquachile.sharepoint.com/sites/aqua_pdf/Documentos%20compartidos/compliance/reglamentos/AQ-PO-AUD-001%20C%C3%B3digo%20Conducta%20en%20Los%20Negocios%20AQ.pdf', 'file_path': 'https://aquachile.sharepoint.com/sites/aqua_pdf/Documentos%20compartidos/compliance/reglamentos/AQ-PO-AUD-001%20C%C3%B3digo%20Conducta%20en%20Los%20Negocios%20AQ.pdf', 'page': 4, 'total_pages': 25, 'format': 'PDF 1.6', 'title': 'CdC 2023', 'author': '', 'subject': '', 'keywords': '', 'creator': 'Adobe Illustrator 28.0 (Macintosh)', 'producer': 'iLovePDF', 'creationDate': \"D:20231215133914-03'00'\", 'modDate': 'D:20231218135108Z', 'trapped': ''}, page_content='Compromiso: Cumplimos fehacientemente los  compromisos y \\nla palabra empeñada.\\nHonestidad: Las personas que trabajan en AquaChile muestran \\nun comportamiento íntegro y honesto en su quehacer y en la \\ninteracción con los otros.\\nCompañerismo: Las relaciones que se establecen en AquaChile \\nentre colaboradores, proveedores y miembros de la comunidad, \\nson en base a la conﬁanza, y procuramos cultivarla día a día \\nsiendo competentes, sinceros y sencillos, actuando con \\nresponsabilidad y compromiso.\\nAusteridad: Realizamos nuestro quehacer cuidando y manejando \\ncon mesura los recursos disponibles, maximizando la utilización \\nde éstos  y resguardando los bienes de la compañía.\\n>>\\n>>\\n>>\\n>>\\n>>\\n>>\\nVALORES QUE  RIGEN NUESTRO  ACTUAR \\nFomentamos que el actuar de cada uno de  nuestros \\ncolaboradores \\nsea \\nconsistente \\ncon \\n \\nnuestra \\ncultura, \\ndemostrándolo en todas las  acciones cotidianas; con los \\nmiembros de la  organización, clientes, proveedores, \\ncomunidades y diferentes grupos de interés que se relacionan \\ncon quienes nos relacionamos. \\nA esto último le llamamos integridad.\\nRespeto: Procuramos establecer relaciones de  apertura, respeto \\ny ﬂuidez con las distintas  personas y grupos al interior de la \\norganización  y su entorno, promoviendo una actitud positiva  de \\nconvivencia dentro y fuera de la empresa.\\nVocación de Servicio: Mostramos un esfuerzo  consistente por \\nescuchar y generar relaciones  duraderas con los clientes \\n(internos – externos y  consumidores), anticipándonos a sus \\nnecesidades y demandas para asegurar su satisfacción.\\nExcelencia e Innovación: Orientamos todos los  esfuerzos hacia \\nel cumplimiento del trabajo,  más allá de los estándares \\nregulares, estableciendo parámetros elevados de calidad y \\neﬁciencia. Innovamos permanentemente para  agregar valor y \\ncontribuir a la mejora continua.\\n>>\\n')]"
      ]
     },
     "execution_count": 4,
     "metadata": {},
     "output_type": "execute_result"
    }
   ],
   "source": [
    "import os\n",
    "\n",
    "from langchain_community.document_loaders import SharePointLoader\n",
    "\n",
    "loader = SharePointLoader(\n",
    "    document_library_id=DOCUMENT_LIBRARY_ID,\n",
    "    auth_with_token=True,\n",
    "    folder_path=\"/compliance/reglamentos\",\n",
    ")\n",
    "docs = loader.load()\n",
    "docs[:5]"
   ]
  },
  {
   "cell_type": "code",
   "execution_count": 5,
   "metadata": {},
   "outputs": [
    {
     "data": {
      "text/plain": [
       "[Document(metadata={'source': 'https://aquachile.sharepoint.com/sites/aqua_pdf/Documentos%20compartidos/compliance/reglamentos/AQ-PO-AUD-001%20C%C3%B3digo%20Conducta%20en%20Los%20Negocios%20AQ.pdf', 'file_path': 'https://aquachile.sharepoint.com/sites/aqua_pdf/Documentos%20compartidos/compliance/reglamentos/AQ-PO-AUD-001%20C%C3%B3digo%20Conducta%20en%20Los%20Negocios%20AQ.pdf', 'page': 0, 'total_pages': 25, 'format': 'PDF 1.6', 'title': 'CdC 2023', 'author': '', 'subject': '', 'keywords': '', 'creator': 'Adobe Illustrator 28.0 (Macintosh)', 'producer': 'iLovePDF', 'creationDate': \"D:20231215133914-03'00'\", 'modDate': 'D:20231218135108Z', 'trapped': ''}, page_content='2023'),\n",
       " Document(metadata={'source': 'https://aquachile.sharepoint.com/sites/aqua_pdf/Documentos%20compartidos/compliance/reglamentos/AQ-PO-AUD-001%20C%C3%B3digo%20Conducta%20en%20Los%20Negocios%20AQ.pdf', 'file_path': 'https://aquachile.sharepoint.com/sites/aqua_pdf/Documentos%20compartidos/compliance/reglamentos/AQ-PO-AUD-001%20C%C3%B3digo%20Conducta%20en%20Los%20Negocios%20AQ.pdf', 'page': 1, 'total_pages': 25, 'format': 'PDF 1.6', 'title': 'CdC 2023', 'author': '', 'subject': '', 'keywords': '', 'creator': 'Adobe Illustrator 28.0 (Macintosh)', 'producer': 'iLovePDF', 'creationDate': \"D:20231215133914-03'00'\", 'modDate': 'D:20231218135108Z', 'trapped': ''}, page_content='AQUACHILE  S.A  Y  FILIALES\\nEl Código de Conducta en los Negocios de Empresas AquaChile recoge \\nlo que ha sido nuestra forma de actuar por más de 30 años y constituye \\nuna guía para que cada colaborador, independiente de su rango \\njerárquico, promueva un actuar basado en un comportamiento cuyos \\nsellos distintivos sean la transparencia y honestidad en cada una de las \\nactividades que desempeñamos.\\nDe esta manera,  AquaChile y sus Filiales, han deﬁnido como una de sus \\nﬁnalidades esenciales para el desarrollo de sus actividades, que en \\ncada una de las etapas de producción, elaboración, distribución y \\ncomercialización de nuestros productos, tanto los directores como los \\nejecutivos y colaboradores, cumplan siempre las normas y \\nregulaciones vigentes.\\nEn este Código de Conducta, la Compañía ha resumido aquellos \\nprincipios, valores éticos y de conducta esenciales en los que deben \\nenmarcarse las actuaciones de directores, ejecutivos y colaboradores'),\n",
       " Document(metadata={'source': 'https://aquachile.sharepoint.com/sites/aqua_pdf/Documentos%20compartidos/compliance/reglamentos/AQ-PO-AUD-001%20C%C3%B3digo%20Conducta%20en%20Los%20Negocios%20AQ.pdf', 'file_path': 'https://aquachile.sharepoint.com/sites/aqua_pdf/Documentos%20compartidos/compliance/reglamentos/AQ-PO-AUD-001%20C%C3%B3digo%20Conducta%20en%20Los%20Negocios%20AQ.pdf', 'page': 1, 'total_pages': 25, 'format': 'PDF 1.6', 'title': 'CdC 2023', 'author': '', 'subject': '', 'keywords': '', 'creator': 'Adobe Illustrator 28.0 (Macintosh)', 'producer': 'iLovePDF', 'creationDate': \"D:20231215133914-03'00'\", 'modDate': 'D:20231218135108Z', 'trapped': ''}, page_content='principios, valores éticos y de conducta esenciales en los que deben \\nenmarcarse las actuaciones de directores, ejecutivos y colaboradores \\nde AquaChile y sus sociedades Filiales, sin excepción.\\n>>'),\n",
       " Document(metadata={'source': 'https://aquachile.sharepoint.com/sites/aqua_pdf/Documentos%20compartidos/compliance/reglamentos/AQ-PO-AUD-001%20C%C3%B3digo%20Conducta%20en%20Los%20Negocios%20AQ.pdf', 'file_path': 'https://aquachile.sharepoint.com/sites/aqua_pdf/Documentos%20compartidos/compliance/reglamentos/AQ-PO-AUD-001%20C%C3%B3digo%20Conducta%20en%20Los%20Negocios%20AQ.pdf', 'page': 2, 'total_pages': 25, 'format': 'PDF 1.6', 'title': 'CdC 2023', 'author': '', 'subject': '', 'keywords': '', 'creator': 'Adobe Illustrator 28.0 (Macintosh)', 'producer': 'iLovePDF', 'creationDate': \"D:20231215133914-03'00'\", 'modDate': 'D:20231218135108Z', 'trapped': ''}, page_content='NUESTRO COMPROMISO\\nAquaChile a través de este Código, refuerza su compromiso ético y en \\nforma explícita contra la corrupción en cualquiera de sus formas y \\nmediante cualquier tipo de conducta. Nuestro patrimonio valórico \\nsiempre ha estado determinado por cuatro pilares fundamentales:\\nLas Personas con quienes trabajamos y con las  que queremos \\ncontar;\\nLa Gestión que se traduce en la forma en que se  trabaja y \\nadministra;\\nLas Ideas que orientan las decisiones del  negocio.\\nLa Sustentabilidad, dimensión que aborda la  preocupación, el \\ntrabajo permanente y  responsable en los distintos ámbitos de \\nnuestro  quehacer cotidiano, tales como nuestra relación  con las \\ncomunidades vecinas, la preocupación  por el medio ambiente y \\nnuestra gestión  ﬁnanciera, entre otros aspectos.\\nLos integrantes de esta gran comunidad sobresalen por el alma y \\npasión que ponen en el trabajo; la honestidad y el valor de la palabra \\nempeñada; la sencillez y austeridad en la forma de ser y de actuar; el'),\n",
       " Document(metadata={'source': 'https://aquachile.sharepoint.com/sites/aqua_pdf/Documentos%20compartidos/compliance/reglamentos/AQ-PO-AUD-001%20C%C3%B3digo%20Conducta%20en%20Los%20Negocios%20AQ.pdf', 'file_path': 'https://aquachile.sharepoint.com/sites/aqua_pdf/Documentos%20compartidos/compliance/reglamentos/AQ-PO-AUD-001%20C%C3%B3digo%20Conducta%20en%20Los%20Negocios%20AQ.pdf', 'page': 2, 'total_pages': 25, 'format': 'PDF 1.6', 'title': 'CdC 2023', 'author': '', 'subject': '', 'keywords': '', 'creator': 'Adobe Illustrator 28.0 (Macintosh)', 'producer': 'iLovePDF', 'creationDate': \"D:20231215133914-03'00'\", 'modDate': 'D:20231218135108Z', 'trapped': ''}, page_content='pasión que ponen en el trabajo; la honestidad y el valor de la palabra \\nempeñada; la sencillez y austeridad en la forma de ser y de actuar; el \\nespíritu emprendedor; la responsabilidad y disciplina; la conﬁanza y el \\ncompromiso con que enfrentamos nuestro quehacer.\\nTE INVITAMOS A COMPRENDER LA IMPORTANCIA DE ESTE \\nDOCUMENTO Y  A VIVIR NUESTROS VALORES. \\n>>\\n>>\\n>>\\n>>')]"
      ]
     },
     "execution_count": 5,
     "metadata": {},
     "output_type": "execute_result"
    }
   ],
   "source": [
    "from langchain.text_splitter import RecursiveCharacterTextSplitter\n",
    "\n",
    "splitter = RecursiveCharacterTextSplitter(chunk_size=1000, chunk_overlap=200)\n",
    "split_docs = splitter.split_documents(docs)\n",
    "split_docs[:5]"
   ]
  },
  {
   "cell_type": "code",
   "execution_count": 6,
   "metadata": {},
   "outputs": [],
   "source": [
    "from langchain_community.vectorstores import AzureSearch\n",
    "\n",
    "index_name = \"sharepoint-index\"\n",
    "\n",
    "vectorstore = AzureSearch(\n",
    "    azure_search_endpoint=AZURE_AI_SEARCH_ENDPOINT,\n",
    "    azure_search_key=AZURE_AI_SEARCH_API_KEY,\n",
    "    index_name=index_name,\n",
    "    embedding_function=EMBEDDINGS_MODEL.embed_query,\n",
    "    additional_search_client_options={\"retry_total\": 4},\n",
    ")"
   ]
  },
  {
   "cell_type": "code",
   "execution_count": 7,
   "metadata": {},
   "outputs": [
    {
     "data": {
      "text/plain": [
       "['Y2Y4ZDZhZDgtY2YyNy00MTgzLThiZDgtMDcyZDMyNzNhMTE0',\n",
       " 'ODk2MGM4ZTAtODY4ZS00NjE4LTg3YjMtZTBiZDEwODY0OGM3',\n",
       " 'MmQyZDJjMzEtNzcwMy00YzA3LTgzNmUtNWU5ZmQ4ZDIzYzQ4',\n",
       " 'NmRhYjJkNTctYTg2OC00YjllLWFhZWItNWRkMzE4MDYzNGI3',\n",
       " 'NDg0Njg5MTItOTU1MS00OTVmLWE1OTItODdhZDcwNzYzZTA4',\n",
       " 'MmVlYzFlNmUtZjNkOS00NWU4LWJjYzMtZjgyNjRlMGExMjA0',\n",
       " 'NjQ3MGVhMzMtYmFmYy00NTY0LThkMTYtYzY2ODUxNmVhOGI5',\n",
       " 'MDY2ODU3NGQtZjRlNy00MGQ0LWI0ZDctZjMyMWZjNjFmMGUz',\n",
       " 'ODlkOTQ3NzctMTczYy00NjZmLWIxYzAtZjAwMzhiNTkwZDI1',\n",
       " 'MjNlZjk1NTQtMjVlYS00MTAwLTkzNWEtY2ZkNjYwNTExNWJm',\n",
       " 'Zjk2NTc0ZjQtNDE3My00MWY1LTk2MjctMjUzMzBkOGJiOTg3',\n",
       " 'ZTZkYmEwMzQtYTIxNi00OGJmLWExMDItNzAyZGZhZGM4NmEy',\n",
       " 'YTk4NjFhYjUtMzM4MC00NmE2LWE2N2MtNmU3Y2E2YzBlOGI4',\n",
       " 'YmEwMjZhNDgtODYxMi00MjVmLWE4MDYtZjM5YWIzM2I3NmE5',\n",
       " 'NmY0MWUyODAtMDQ2MS00ZWY3LTk2MjQtMTg1YTRiZGEyMGI4',\n",
       " 'MzgyZGY3NGItZjAzMS00ZTFhLTg5NGUtMTQ1OWNhOTkxZThl',\n",
       " 'NjA4NTU1NjItMDUwMi00NDI0LWIzZTctZjdlNGI2Yzk5NDU5',\n",
       " 'Yzk0OTU0ZDAtZjQyNy00YjM5LTlkMzMtZDFiZGZhY2RlMGQ2',\n",
       " 'ODJkMjcxYjQtN2M3Yi00MTA1LThlZWMtZmMyOTg5MzZjMjk1',\n",
       " 'MjQyMmNhM2ItMTMzYS00OTM0LWEzYTktNTVkYTIwMzk2ODgz',\n",
       " 'N2I4MDZkMTktOGNjZS00YjBkLTgyZWEtZWQxMzBjZTBjNzE4',\n",
       " 'YjI3OGZhODYtZDM3Yi00NjY4LWE1YzItNmM3ZDA4MGI2Yjdm',\n",
       " 'MWE5NTI0MzEtZWI5ZS00ZDAxLWJmODItNWY5MzE2YmExMzEw',\n",
       " 'YjRmNzc3MmItY2U1OC00ZThlLWFkOTQtYjA5NDRhZGI2N2Jk',\n",
       " 'YTAzMDk0Y2UtZGVkZi00M2ZmLTlkNzUtZDBjOWY4Yjg5YjIy',\n",
       " 'MmYxZTY0NGItMTJjMS00YzFkLTk5NzktMmIzNjM1YjE4Mjhh',\n",
       " 'OTY0ZGY5NWYtN2JiZi00ODNlLTkxMDYtMzg3MjBhNWFlZjBi',\n",
       " 'YzdkYzk5ODAtMWRmNy00YjFlLWEzY2YtODY0ZGQzMzM0MWFh',\n",
       " 'MjlmMjc1OGUtODRhMS00NGY2LWJjOWEtZDRjNzgyZjM0MGE1',\n",
       " 'YThiMGZkNGUtZmIxNy00M2FhLWIxNDgtNjlkN2U1ODE0YTUz',\n",
       " 'MWZhY2ZmZDQtMTE2ZC00MmE4LThkMTQtOWFjZmM1ZWRkYzJl',\n",
       " 'OTJmNjNkMDItNDk1OS00ZWVhLTk0OTktNzM3MTA0NTQwOTc1',\n",
       " 'Y2I0YTFmYWEtMTJkYi00NzUyLThjYTUtN2Q5MzA2NmVhNDJm',\n",
       " 'OGIxNjI4OWUtZTljMC00N2M3LWJjNmYtZmU3OGU4ODYwYzM5',\n",
       " 'NWU0YjRkNjEtNjMxNy00ZmQxLWFiZTUtNmE2ZGI3ZDUwODcx',\n",
       " 'YmVmMDczODYtNGJkZC00NmFmLTlmMDUtODZjMTRjNjBmZTc4',\n",
       " 'MTdhYjY2M2EtMjNlZi00ODk3LWE5ZjEtZTUwMTk2MTU3ZDk0',\n",
       " 'NGU1YzdkMWUtNzYxZi00ZTg0LWI3NDEtMTg0YzNkMDQxMzY5',\n",
       " 'YjM4Yjk4YWYtODMyMC00ODRiLWJkY2QtYTA1NWQ1N2MyMTRi',\n",
       " 'NDg3ODdjNzYtYjI1MC00OGZhLWI2YTMtOTMwNGFhNDcwMWE1',\n",
       " 'NGE0ZTRmZWYtODI2MS00ODE0LWI1YjEtMDJiMDI5NzY3OGUw',\n",
       " 'MWIwYjMyZWItOWM2Mi00OTgyLWJiNDUtZjhmZTNjOWFiMjgw',\n",
       " 'MDU0OTZiNzUtZDZkZC00MzBkLWE1ZWMtNjcwMTA1ODUyZTA4',\n",
       " 'NDZkZjA1NTctOTE0ZS00MTViLWE0ZmEtYWEyM2U0NGYzOGJm',\n",
       " 'ZTgzOWM5YWQtZTQ2OS00NTY2LTliMjctMGNiNGU1ZWY1NmYx',\n",
       " 'ZTA0ZTkyNWMtYWMxMS00MDA2LWE4NjYtMTA5MzRiY2Y5YjFm',\n",
       " 'NjljYjQ1MTAtMmMzZC00MWVjLWFjYTUtMTNhNzBlYTI4YmY1',\n",
       " 'MGNkYTBmNzMtYmRjNy00YTUzLWJhNzUtNjhlZmYzZmU2ZTcz',\n",
       " 'YmMwZTRlYWUtOWVkOS00MjgxLWEzNDctMTEyZjhiYTQ3ZDc0',\n",
       " 'MmRlYmNjMmItMTY2Yi00M2MxLTkzMGItZmRkZWJkNmM0YTE5',\n",
       " 'NTkzM2E1OTEtZWZlNi00MzY3LWIyMDctNGQ2YjJiYzY2ZjAx',\n",
       " 'ZjM1MTAyNDctYjQwNS00NDgyLWJiOWYtZDllYWRiMzUxZDI3',\n",
       " 'NjM2ZjRhYmItMjRmZi00NWU2LWI0OGEtYTlmOTA1NGJkMTc5',\n",
       " 'MmMwZmJmMzItYmE0Yi00NGU1LWI1ODMtMGJhYjk2M2JjYmIw',\n",
       " 'YThhZDU3MTAtNzViNy00YzFkLTgwMTYtNjk5NzQyMDUxYThk',\n",
       " 'ZTc5YmI4ZDItOGNmNS00OTg1LTgyMDgtMzBkMWU4OWFhODU4',\n",
       " 'YjdhZDVlZjAtMGUzYS00YzI5LWI0YmYtZjhiNjYzYmFmMmUw',\n",
       " 'NGU0OTAyM2YtOTc4OS00MGYxLTk1MjAtNjQ2MGRjYjY1NDA1',\n",
       " 'NGQwMTJkMTgtYzg2Ny00OGEzLTljZjYtNTdjMjg0M2FkY2Q5',\n",
       " 'ZDliZGM1YzgtYjE1Yy00YzljLThlYjUtOWEzMmEzMmYzNTRk',\n",
       " 'NzZjNmNmZTAtMDA4Zi00ODg5LTg0ZjgtN2QzODEzYWI0Njgx',\n",
       " 'ZDdjZjUwODctNThiNS00NGRlLTg1MjItNWZmMTQwYTY0OTNl',\n",
       " 'NjE4NzNiYWMtNTkxNy00OGMyLWFkNzQtN2MxYmYzM2NmYjBi',\n",
       " 'NzFjMThhYmQtNDY2Yi00ODIyLTkwMzgtNjIyOTRjNzE1NGQy',\n",
       " 'MzY1MzEwYzQtOTVkOS00ZGJiLTk0ZjMtNTFlZTcyOGM3YjEx',\n",
       " 'N2Q0YmY4YzQtYjRiYi00NmE3LWEwYzMtNDQwNzE5NzUyNjFl',\n",
       " 'OTI4MjkzOWYtMTA2NS00OTE1LTg5ZjctZTFiOGJhMjZmOGVi',\n",
       " 'ZWZmZjBmNTEtYWY4ZS00OWFkLTg4OGItN2I3MWVhYzljZDBh',\n",
       " 'NWY0MWVkMmItMTg0ZS00MjkxLTk1ZGMtMTc1NjEyOGU1ZWQ4',\n",
       " 'MGE2OGYyYzktMDYxZC00YTQ2LWE5ZjktODg4Njk3OGM4MjJj',\n",
       " 'YzUyZGE3YzktYzQ0Ni00NWNhLTg4YWYtMTI0MzRiOWQyNzBj',\n",
       " 'ODQ3OGY2ZWEtNmZhOS00OTkwLTliZDAtMjJlNTAxYjlhNTJk',\n",
       " 'NTMxNjkzMDUtNDk5Zi00MDE5LWFjMmEtOTBlYzBjYjJjYmY3',\n",
       " 'YWU3MWMyZWYtZDkyZC00NTJiLWIyZTQtYmYzYTUwYmVjMjRj',\n",
       " 'OTk2Yzg1YWItMTVjYS00ZGI2LWFlNWQtOWU2NjkwNDlhMWVj',\n",
       " 'NWNjMzkyMDgtZWQxMy00YTIwLWI5YWMtMTQwYTVlNTViN2Rk',\n",
       " 'MjkxMThjOTAtMjI4MC00MTczLWI4ODEtODcyZTBmYTY3NGJk',\n",
       " 'YmNiMmUxZGEtNmIwZS00NTMxLWEwNWUtYjQyMTg4YWNhODM5',\n",
       " 'ZTIzZjU0NjYtMGM3Ni00N2ExLWI3NGQtYmFmOGZjN2VjYWU3',\n",
       " 'YWIwNzAwZWMtODQxZC00NzkxLTg2YWQtODY2MmM1ZmY4MmJl',\n",
       " 'NzY5ODNlZjEtYTNkYi00Y2FlLWJkYzItNjNiNGYyNmU5YzBi',\n",
       " 'Zjg2ZGEyY2UtNzVmNi00ZDQ2LWIyYjgtYTY4YjNjYTdjMGZk',\n",
       " 'ZjgzMTA2NmMtMDI3YS00ZjhhLTk3NjMtMGNiN2E1ZDAzMjJh',\n",
       " 'Mjg1ZGNkMzYtMGY5Mi00NDllLWE2MmEtNzA0MjgxYWQ4NDc1']"
      ]
     },
     "execution_count": 7,
     "metadata": {},
     "output_type": "execute_result"
    }
   ],
   "source": [
    "vectorstore.add_documents(split_docs)"
   ]
  },
  {
   "cell_type": "code",
   "execution_count": 8,
   "metadata": {},
   "outputs": [
    {
     "data": {
      "text/plain": [
       "'3.2  CÓDIGO DE CONDUCTA EN LOS NEGOCIOS \\nDocumento que contiene reglas para que cada empleado, independiente de su rango jerárquico, \\npromueva una conducta basada en un comportamiento cuyos sellos distintivos, sea la rectitud u \\nhonestidad, en cada una de sus acciones.'"
      ]
     },
     "execution_count": 8,
     "metadata": {},
     "output_type": "execute_result"
    }
   ],
   "source": [
    "retrieved_doc = vectorstore.similarity_search(\n",
    "    query=\"conducta\",\n",
    "    k=3,\n",
    "    search_type=\"similarity\",\n",
    ")\n",
    "retrieved_doc[0].page_content"
   ]
  }
 ],
 "metadata": {
  "kernelspec": {
   "display_name": "venv",
   "language": "python",
   "name": "python3"
  },
  "language_info": {
   "codemirror_mode": {
    "name": "ipython",
    "version": 3
   },
   "file_extension": ".py",
   "mimetype": "text/x-python",
   "name": "python",
   "nbconvert_exporter": "python",
   "pygments_lexer": "ipython3",
   "version": "3.11.9"
  }
 },
 "nbformat": 4,
 "nbformat_minor": 2
}
