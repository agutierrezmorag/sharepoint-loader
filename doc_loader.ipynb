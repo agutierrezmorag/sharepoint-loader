{
 "cells": [
  {
   "cell_type": "code",
   "execution_count": 3,
   "metadata": {},
   "outputs": [
    {
     "data": {
      "text/plain": [
       "True"
      ]
     },
     "execution_count": 3,
     "metadata": {},
     "output_type": "execute_result"
    }
   ],
   "source": [
    "from dotenv import load_dotenv\n",
    "\n",
    "load_dotenv()"
   ]
  },
  {
   "cell_type": "code",
   "execution_count": 4,
   "metadata": {},
   "outputs": [],
   "source": [
    "from langchain_openai import AzureChatOpenAI, AzureOpenAIEmbeddings\n",
    "\n",
    "LLM = AzureChatOpenAI(\n",
    "    azure_deployment=\"gpt-4o-mini\",\n",
    "    api_version=\"2024-02-01\",\n",
    "    temperature=0.7,\n",
    "    max_tokens=1000,\n",
    "    max_retries=2,\n",
    ")\n",
    "EMBEDDINGS_MODEL = AzureOpenAIEmbeddings(model=\"text-embedding-3-small\")"
   ]
  },
  {
   "cell_type": "code",
   "execution_count": 14,
   "metadata": {},
   "outputs": [
    {
     "data": {
      "text/plain": [
       "[Document(metadata={'source': 'https://aquachile.sharepoint.com/sites/aqua_pdf/Documentos%20compartidos/compliance/CASS%20Veeam%20Backup%20-%20Cotizaci%C3%B3n%20anual.pdf', 'file_path': 'https://aquachile.sharepoint.com/sites/aqua_pdf/Documentos%20compartidos/compliance/CASS%20Veeam%20Backup%20-%20Cotizaci%C3%B3n%20anual.pdf', 'page': 0, 'total_pages': 1, 'format': 'PDF 1.7', 'title': '', 'author': '', 'subject': '', 'keywords': '', 'creator': 'Microsoft® Excel® para Microsoft 365', 'producer': 'Microsoft® Excel® para Microsoft 365', 'creationDate': \"D:20220228104817-03'00'\", 'modDate': \"D:20220228110445-03'00'\", 'trapped': ''}, page_content='FECHA\\nEMPRESA\\nAquachile\\n    RUT\\nCONTACTO\\nSandy Chacon\\n    FONO Fax\\nNota\\nTipo Cambio Observado + $ 5\\n  TC Hoy Ref.\\nCantidad\\nPart Number\\nDescripción\\nValor Unitario US$\\n26\\nProduct Migration from Veeam Backup & Replication Enterprise Socket-\\nBased to Veeam Subscription Universal License - 1 year with Basic Support \\n              389,66 \\n18\\nSocket migration to Veeam Backup & Replication Subscription Universal \\nLicense. Includes Enterprise Plus Edition features - 1 year with Production \\n(24/7) Support\\n              641,38 \\n  \\n  \\n  \\n  \\n  \\n  \\n  \\n  \\n  \\n  \\n   Subtotal\\nDisponibilidad\\n3 Días\\nSe procede a facturar con Tipo de Cambio Observado + $ 5\\n   IVA 19%\\nGarantía\\n1 Años\\n   Total\\nCONDICIONES DE VENTA\\n-Orden de Compra a : Cass S.A.            Rut: 76,102,295-4\\n-Garantía del repuesto no considera daños ocasionados por la instalación\\ninadecuada por parte de personal ajeno a  Cass Computación\\n-Forma de pago: Contado, documento 30 días o a Cta. corriente 30 días\\n(esta última siempre que cliente tenga crédito con Cass  ).\\nNOMBRE\\n Cualquier otra forma debe ser analizada previamente por nuestro \\nRUT\\ndepartamento de  crédito y cobranza.\\n- No se acepta devolución de mercadería.\\n             \\nwww.cass.cl\\n28-02-2022\\n05-03-2022\\nVencimiento de la Cotización\\n1254310321\\nCOTIZACIÓN\\n          11.544,83 \\nTotal US$\\n          10.131,03 \\n  \\n  \\n  \\n  \\n  \\n  \\n  \\n  \\n  \\n          21.675,86 \\n  \\n            4.118,41 \\n          25.794,28 \\nSI ____          NO ____\\nFIRMA DEL CLIENTE\\nVentas\\ne-mail : cstange@cass.cl\\nTel. 65  2564300    Fax 65  2560497\\n(FAVOR INDICAR OPCIÓN)\\n______________________________\\nCarlos Stange Bravo\\n'),\n",
       " Document(metadata={'source': 'https://aquachile.sharepoint.com/sites/aqua_pdf/Documentos%20compartidos/compliance/CASS%20Wasabi%20-%20Cotizaci%C3%B3n%20mensual.pdf', 'file_path': 'https://aquachile.sharepoint.com/sites/aqua_pdf/Documentos%20compartidos/compliance/CASS%20Wasabi%20-%20Cotizaci%C3%B3n%20mensual.pdf', 'page': 0, 'total_pages': 1, 'format': 'PDF 1.7', 'title': '', 'author': 'Carlos Stange', 'subject': '', 'keywords': '', 'creator': 'Microsoft® Excel® 2019', 'producer': 'Microsoft® Excel® 2019', 'creationDate': \"D:20220623161035-04'00'\", 'modDate': \"D:20220623161035-04'00'\", 'trapped': ''}, page_content='FECHA\\nEMPRESA\\nAquachile\\n    RUT\\nCONTACTO\\nJakob Eissler Brinker\\n    FONO Fax\\nNota\\nServicio Mensual de Storage\\n  TC Hoy Ref.\\nCantidad\\nPart Number\\nDescripción\\nValor Unitario UF\\n30\\nAlmacenamiento Cloud Wasabi \"Servicio Mensual\"\\n                   0,28 \\n  \\n1\\nAdministración del Backup de Veeam a Cloud\\n                   2,00 \\n1\\nDescuento Contrato de servicio actual \\n                 (2,00)\\n  \\nValor Mensual, Contrato mínimo 6 meses, facturación mensual anticipada\\n  \\n  \\n  \\n  \\n  \\n  \\n  \\n   Subtotal\\nDisponibilidad\\nInmediata\\n   IVA 19%\\nGarantía\\n   Total\\nCONDICIONES DE VENTA\\n-Orden de Compra a : Cass S.A.            Rut: 76,102,295-4\\n-Garantía del repuesto no considera daños ocasionados por la instalación\\ninadecuada por parte de personal ajeno a  Cass Computación\\n-Forma de pago: Contado, documento 30 días o a Cta. corriente 30 días\\n(esta última siempre que cliente tenga crédito con Cass  ).\\nNOMBRE\\n Cualquier otra forma debe ser analizada previamente por nuestro \\nRUT\\ndepartamento de  crédito y cobranza.\\n- No se acepta devolución de mercadería.\\n             \\nwww.cass.cl\\n23-06-2022\\n28-06-2022\\nVencimiento de la Cotización\\n1610230622\\nCOTIZACIÓN\\n  \\nTotal UF\\n                    8,51 \\n                    2,00 \\n  \\n  \\n                   (2,00)\\n  \\n  \\n  \\n  \\n  \\n                    8,51 \\n  \\n                    1,62 \\n                  10,13 \\nSI ____          NO ____\\nFIRMA DEL CLIENTE\\nVentas\\ne-mail : cstange@cass.cl\\nTel. 65  2564300    Fax 65  2560497\\n(FAVOR INDICAR OPCIÓN)\\n______________________________\\nCarlos Stange Bravo\\n'),\n",
       " Document(metadata={'source': 'https://aquachile.sharepoint.com/sites/aqua_pdf/Documentos%20compartidos/compliance/PMV%20Folio%2011651%20centro%20Marta%2022-05-2023.pdf', 'file_path': 'https://aquachile.sharepoint.com/sites/aqua_pdf/Documentos%20compartidos/compliance/PMV%20Folio%2011651%20centro%20Marta%2022-05-2023.pdf', 'page': 0, 'total_pages': 3, 'format': 'PDF 1.4', 'title': 'PMV - Folio 11651', 'author': 'PMV - Sernapesca', 'subject': '', 'keywords': '', 'creator': '', 'producer': 'mPDF 6.0', 'creationDate': \"20230522224839+01'00'\", 'modDate': \"20230522224839+01'00'\", 'trapped': ''}, page_content='pmv.sernapesca.cl       Página: 1 / 3\\nFolio\\n11651\\nTipo\\nTradicional\\nFecha emisión\\n22-05-2023\\nFecha envío\\nUtilizar por única vez\\n \\n \\n \\n \\nPrescripción Medico Veterinaria\\nPMV TRADICIONAL PARA TRATAMIENTO DE CENTROS DE CULTIVO\\n \\n \\n \\n \\nEmpresa\\nEXPORTADORA LOS FIORDOS\\nLTDA.\\nRUT empresa\\n79.872.420-7\\nRNA código\\n110071\\nACS\\n32\\nCentro\\nEXPORTADORA LOS FIORDOS\\nLTDA.\\nHolding\\nSector geográfico\\nISLA MARTA, CANAL PUYUGUAPI, ISLA MAGDALENA SECTo 3, Cisnes\\nMed. Veterinario\\nAndre Michael Metayer Chavez RUT med.\\n16.631.987-0\\n \\n \\n \\n \\nEspecie\\nSalmón del Atlántico\\nEtapa de desarrollo\\nEngorda Mar\\nPresentación\\nPolvo\\nTipo de Unidad de\\nCultivo\\nBalsa Jaula\\nTratamiento en Wellboat No\\nProducto Comercial  \\nFlorfenicol 50%\\nNombre Genérico\\nFlorfenicol 50%\\nVía de Administración\\nOral\\nConcentración\\n50%\\nCarencia\\n350 grados días\\nN° registro\\n1811\\nDosis\\n20 mg/kg\\n \\n \\n \\n \\nBiomasa a tratar\\n3.499.938 Kilogramos\\nTº promedio del agua 10 ºC\\n \\n \\n \\nDiagnóstico\\nPISCIRICKETTSIOSIS\\nFecha posible inicio tratamiento 25-05-2023\\nFecha posible término tratamiento 07-06-2023\\nDuración posible del tratamiento 14  días\\n \\n \\n \\n \\n \\nEmpresa de alimentos\\nLOS FIORDOS\\n \\n \\nSFR\\n0,83\\n \\nAlimentación\\nSaciedad\\nPauta de alimentación 1 vez al día\\n \\n \\n \\n \\nUNIDADES DE CULTIVO DURANTE EL TRATAMIENTO\\n \\n \\n \\n'),\n",
       " Document(metadata={'source': 'https://aquachile.sharepoint.com/sites/aqua_pdf/Documentos%20compartidos/compliance/PMV%20Folio%2011651%20centro%20Marta%2022-05-2023.pdf', 'file_path': 'https://aquachile.sharepoint.com/sites/aqua_pdf/Documentos%20compartidos/compliance/PMV%20Folio%2011651%20centro%20Marta%2022-05-2023.pdf', 'page': 1, 'total_pages': 3, 'format': 'PDF 1.4', 'title': 'PMV - Folio 11651', 'author': 'PMV - Sernapesca', 'subject': '', 'keywords': '', 'creator': '', 'producer': 'mPDF 6.0', 'creationDate': \"20230522224839+01'00'\", 'modDate': \"20230522224839+01'00'\", 'trapped': ''}, page_content='pmv.sernapesca.cl       Página: 2 / 3\\nCod. Unidad de cultivo\\nNº de peces para\\ntratamiento\\nPeso promedio\\ndurante el tratamiento\\n(g)\\nGrupo / Lote\\nVolumen a tratar (m3)\\n101\\n52.845\\n3.262\\nMA01-PA-PH-S-CAT-\\nOTO-21-M\\n0\\n102\\n49.367\\n3.390\\nMA01-PA-PH-S-CAT-\\nOTO-21-M\\n0\\n103\\n47.497\\n3.181\\nMA01-PA-PH-S-CAT-\\nOTO-21-H\\n0\\n104\\n41.054\\n3.677\\nMA01-PA-PH-S-CAT-\\nOTO-21-H\\n0\\n105\\n48.527\\n3.378\\nMA01-PA-RM-CU-S-\\nCAT-OTO-21-H\\n0\\n106\\n44.307\\n3.307\\nMA01-PA-ME-S-CAT-\\nOTO-21-M\\n0\\n107\\n48.872\\n3.317\\nMA01-PA-PH-S-CAT-\\nOTO-21-H\\n0\\n108\\n44.970\\n3.157\\nMA01-PA-ME-S-CAT-\\nOTO-21-M\\n0\\n109\\n48.953\\n3.253\\nMA01-PA-ME-S-CAT-\\nOTO-21-H\\n0\\n110\\n45.566\\n2.283\\nMA01-PA-ME-S-CAT-\\nOTO-21-M\\n0\\n111\\n48.651\\n3.070\\nMA01-PA-RM-CU-S-\\nCAT-OTO-21-H\\n0\\n112\\n51.306\\n2.882\\nMA01-LS-PH-S-CAT-\\nOTO-21-M\\n0\\n113\\n48.518\\n3.212\\nMA01-PA-ME-S-CAT-\\nOTO-21-H\\n0\\n114\\n51.167\\n2.784\\nMA01-LS-PH-S-CAT-\\nOTO-21-M\\n0\\n115\\n48.866\\n2.941\\nMA01-PA-PH-S-CAT-\\nOTO-21-H\\n0\\n116\\n50.946\\n2.731\\nMA01-LS-CB-S-CAT-\\nOTO-21-H\\n0\\n117\\n49.548\\n2.863\\nMA01-LS-PH-S-CAT-\\nOTO-21-H\\n0\\n118\\n48.787\\n2.816\\nMA01-LS-CB-S-CAT-\\nOTO-21-H\\n0\\n119\\n49.701\\n2.868\\nMA01-LS-PH-S-CAT-\\nOTO-21-H\\n0\\n120\\n51.183\\n2.910\\nMA01-LS-CB-S-CAT-\\nOTO-21-H\\n0\\n121\\n49.502\\n2.785\\nMA01-LS-PH-S-CAT-\\nOTO-21-H\\n0\\n122\\n50.180\\n2.727\\nMA01-LS-PH-S-CAT-\\nOTO-21-M\\n0\\n123\\n47.182\\n2.775\\nMA01-LS-PH-S-CAT-\\nOTO-21-H\\n0\\n124\\n39.849\\n3.153\\nMA01-PA-CU-S-CAT-\\nOTO-21-H\\n0\\n \\n \\n \\n \\nCANTIDAD TOTAL DE ALIMENTO MEDICADO SOLICITADO A LA EMPRESA DE ALIMENTO\\n \\n \\n \\nCantidad de principio activo total (kg):\\n1.071.-\\n \\nCantidad de producto comercial (kg):\\n2.142.-\\n \\nCantidad de alimento (Tn):\\n420.-\\n \\nCantidad de alimento diario aproximado (Kg):\\n30.000\\nProducto comercial (kg) / Tonelada de alimento\\n5,1\\n \\n \\n \\n \\n'),\n",
       " Document(metadata={'source': 'https://aquachile.sharepoint.com/sites/aqua_pdf/Documentos%20compartidos/compliance/PMV%20Folio%2011651%20centro%20Marta%2022-05-2023.pdf', 'file_path': 'https://aquachile.sharepoint.com/sites/aqua_pdf/Documentos%20compartidos/compliance/PMV%20Folio%2011651%20centro%20Marta%2022-05-2023.pdf', 'page': 2, 'total_pages': 3, 'format': 'PDF 1.4', 'title': 'PMV - Folio 11651', 'author': 'PMV - Sernapesca', 'subject': '', 'keywords': '', 'creator': '', 'producer': 'mPDF 6.0', 'creationDate': \"20230522224839+01'00'\", 'modDate': \"20230522224839+01'00'\", 'trapped': ''}, page_content='pmv.sernapesca.cl       Página: 3 / 3\\nTipo Dieta\\nCalibre de\\npellet (mm)\\nCantidad por tipo dieta y\\ncalibre de pellet (T)\\nTamaño\\nenvase\\n(kg)\\nOtros componentes de la dieta\\nNombre\\nCantidad\\n  MFF50 2000 - 3000   10\\n  420\\n  1250\\n  \\n  \\nAndre Michael Metayer Chavez\\n16.631.987-0\\nMÉDICO VETERINARIO\\n')]"
      ]
     },
     "execution_count": 14,
     "metadata": {},
     "output_type": "execute_result"
    }
   ],
   "source": [
    "import os\n",
    "\n",
    "from langchain_community.document_loaders import SharePointLoader\n",
    "\n",
    "loader = SharePointLoader(\n",
    "    document_library_id=os.environ.get(\"DOCUMENT_LIBRARY_ID\"),\n",
    "    auth_with_token=True,\n",
    "    folder_path=\"/compliance\",\n",
    ")\n",
    "docs = loader.load()\n",
    "docs"
   ]
  }
 ],
 "metadata": {
  "kernelspec": {
   "display_name": "venv",
   "language": "python",
   "name": "python3"
  },
  "language_info": {
   "codemirror_mode": {
    "name": "ipython",
    "version": 3
   },
   "file_extension": ".py",
   "mimetype": "text/x-python",
   "name": "python",
   "nbconvert_exporter": "python",
   "pygments_lexer": "ipython3",
   "version": "3.11.9"
  }
 },
 "nbformat": 4,
 "nbformat_minor": 2
}
