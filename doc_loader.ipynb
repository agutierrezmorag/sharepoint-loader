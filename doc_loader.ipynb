{
 "cells": [
  {
   "cell_type": "code",
   "execution_count": 1,
   "metadata": {},
   "outputs": [],
   "source": [
    "import os\n",
    "\n",
    "AZURE_OPENAI_API_KEY = os.getenv(\"AZURE_OPENAI_API_KEY\")\n",
    "AZURE_OPENAI_ENDPOINT = os.getenv(\"AZURE_OPENAI_ENDPOINT\")\n",
    "OPENAI_API_VERSION = os.getenv(\"OPENAI_API_VERSION\")\n",
    "\n",
    "AZURE_AI_SEARCH_ENDPOINT = os.getenv(\"AZURE_AI_SEARCH_ENDPOINT\")\n",
    "AZURE_AI_SEARCH_API_KEY = os.getenv(\"AZURE_AI_SEARCH_API_KEY\")\n",
    "\n",
    "O365_CLIENT_ID = os.getenv(\"O365_CLIENT_ID\")\n",
    "O365_CLIENT_SECRET = os.getenv(\"O365_CLIENT_SECRET\")\n",
    "DOCUMENT_LIBRARY_ID = os.getenv(\"DOCUMENT_LIBRARY_ID\")\n"
   ]
  },
  {
   "cell_type": "code",
   "execution_count": null,
   "metadata": {},
   "outputs": [],
   "source": [
    "from langchain_openai import AzureOpenAIEmbeddings\n",
    "\n",
    "\n",
    "EMBEDDINGS_MODEL = AzureOpenAIEmbeddings(\n",
    "    openai_api_key=AZURE_OPENAI_API_KEY,\n",
    "    azure_endpoint=AZURE_OPENAI_ENDPOINT,\n",
    "    azure_deployment=\"text-embedding-3-small\",\n",
    "    model=\"text-embedding-3-small\",\n",
    ")"
   ]
  },
  {
   "cell_type": "code",
   "execution_count": 3,
   "metadata": {},
   "outputs": [
    {
     "name": "stderr",
     "output_type": "stream",
     "text": [
      "c:\\Users\\alvaro.gutierrez\\VSCode Projects\\sharepoint-loader\\venv\\Lib\\site-packages\\langchain_community\\document_loaders\\parsers\\pdf.py:299: UserWarning: Warning: Empty content on page 24 of document https://aquachile.sharepoint.com/sites/aqua_pdf/Documentos%20compartidos/compliance/AQ-PO-AUD-001%20C%C3%B3digo%20Conducta%20en%20Los%20Negocios%20AQ.pdf\n",
      "  warnings.warn(\n",
      "c:\\Users\\alvaro.gutierrez\\VSCode Projects\\sharepoint-loader\\venv\\Lib\\site-packages\\langchain_community\\document_loaders\\parsers\\pdf.py:299: UserWarning: Warning: Empty content on page 0 of document https://aquachile.sharepoint.com/sites/aqua_pdf/Documentos%20compartidos/compliance/BLUEBOOT%20-%20Contrato%20firmado.pdf\n",
      "  warnings.warn(\n",
      "c:\\Users\\alvaro.gutierrez\\VSCode Projects\\sharepoint-loader\\venv\\Lib\\site-packages\\langchain_community\\document_loaders\\parsers\\pdf.py:299: UserWarning: Warning: Empty content on page 1 of document https://aquachile.sharepoint.com/sites/aqua_pdf/Documentos%20compartidos/compliance/BLUEBOOT%20-%20Contrato%20firmado.pdf\n",
      "  warnings.warn(\n",
      "c:\\Users\\alvaro.gutierrez\\VSCode Projects\\sharepoint-loader\\venv\\Lib\\site-packages\\langchain_community\\document_loaders\\parsers\\pdf.py:299: UserWarning: Warning: Empty content on page 2 of document https://aquachile.sharepoint.com/sites/aqua_pdf/Documentos%20compartidos/compliance/BLUEBOOT%20-%20Contrato%20firmado.pdf\n",
      "  warnings.warn(\n",
      "c:\\Users\\alvaro.gutierrez\\VSCode Projects\\sharepoint-loader\\venv\\Lib\\site-packages\\langchain_community\\document_loaders\\parsers\\pdf.py:299: UserWarning: Warning: Empty content on page 3 of document https://aquachile.sharepoint.com/sites/aqua_pdf/Documentos%20compartidos/compliance/BLUEBOOT%20-%20Contrato%20firmado.pdf\n",
      "  warnings.warn(\n",
      "c:\\Users\\alvaro.gutierrez\\VSCode Projects\\sharepoint-loader\\venv\\Lib\\site-packages\\langchain_community\\document_loaders\\parsers\\pdf.py:299: UserWarning: Warning: Empty content on page 4 of document https://aquachile.sharepoint.com/sites/aqua_pdf/Documentos%20compartidos/compliance/BLUEBOOT%20-%20Contrato%20firmado.pdf\n",
      "  warnings.warn(\n",
      "c:\\Users\\alvaro.gutierrez\\VSCode Projects\\sharepoint-loader\\venv\\Lib\\site-packages\\langchain_community\\document_loaders\\parsers\\pdf.py:299: UserWarning: Warning: Empty content on page 5 of document https://aquachile.sharepoint.com/sites/aqua_pdf/Documentos%20compartidos/compliance/BLUEBOOT%20-%20Contrato%20firmado.pdf\n",
      "  warnings.warn(\n",
      "c:\\Users\\alvaro.gutierrez\\VSCode Projects\\sharepoint-loader\\venv\\Lib\\site-packages\\langchain_community\\document_loaders\\parsers\\pdf.py:299: UserWarning: Warning: Empty content on page 6 of document https://aquachile.sharepoint.com/sites/aqua_pdf/Documentos%20compartidos/compliance/BLUEBOOT%20-%20Contrato%20firmado.pdf\n",
      "  warnings.warn(\n",
      "c:\\Users\\alvaro.gutierrez\\VSCode Projects\\sharepoint-loader\\venv\\Lib\\site-packages\\langchain_community\\document_loaders\\parsers\\pdf.py:299: UserWarning: Warning: Empty content on page 7 of document https://aquachile.sharepoint.com/sites/aqua_pdf/Documentos%20compartidos/compliance/BLUEBOOT%20-%20Contrato%20firmado.pdf\n",
      "  warnings.warn(\n",
      "c:\\Users\\alvaro.gutierrez\\VSCode Projects\\sharepoint-loader\\venv\\Lib\\site-packages\\langchain_community\\document_loaders\\parsers\\pdf.py:299: UserWarning: Warning: Empty content on page 8 of document https://aquachile.sharepoint.com/sites/aqua_pdf/Documentos%20compartidos/compliance/BLUEBOOT%20-%20Contrato%20firmado.pdf\n",
      "  warnings.warn(\n",
      "c:\\Users\\alvaro.gutierrez\\VSCode Projects\\sharepoint-loader\\venv\\Lib\\site-packages\\langchain_community\\document_loaders\\parsers\\pdf.py:299: UserWarning: Warning: Empty content on page 9 of document https://aquachile.sharepoint.com/sites/aqua_pdf/Documentos%20compartidos/compliance/BLUEBOOT%20-%20Contrato%20firmado.pdf\n",
      "  warnings.warn(\n",
      "c:\\Users\\alvaro.gutierrez\\VSCode Projects\\sharepoint-loader\\venv\\Lib\\site-packages\\langchain_community\\document_loaders\\parsers\\pdf.py:299: UserWarning: Warning: Empty content on page 10 of document https://aquachile.sharepoint.com/sites/aqua_pdf/Documentos%20compartidos/compliance/BLUEBOOT%20-%20Contrato%20firmado.pdf\n",
      "  warnings.warn(\n",
      "c:\\Users\\alvaro.gutierrez\\VSCode Projects\\sharepoint-loader\\venv\\Lib\\site-packages\\langchain_community\\document_loaders\\parsers\\pdf.py:299: UserWarning: Warning: Empty content on page 11 of document https://aquachile.sharepoint.com/sites/aqua_pdf/Documentos%20compartidos/compliance/BLUEBOOT%20-%20Contrato%20firmado.pdf\n",
      "  warnings.warn(\n"
     ]
    },
    {
     "data": {
      "text/plain": [
       "[Document(metadata={'source': 'https://aquachile.sharepoint.com/sites/aqua_pdf/Documentos%20compartidos/compliance/AQ-PO-AUD-001%20C%C3%B3digo%20Conducta%20en%20Los%20Negocios%20AQ.pdf', 'file_path': 'https://aquachile.sharepoint.com/sites/aqua_pdf/Documentos%20compartidos/compliance/AQ-PO-AUD-001%20C%C3%B3digo%20Conducta%20en%20Los%20Negocios%20AQ.pdf', 'page': 0, 'total_pages': 25, 'format': 'PDF 1.6', 'title': 'CdC 2023', 'author': '', 'subject': '', 'keywords': '', 'creator': 'Adobe Illustrator 28.0 (Macintosh)', 'producer': 'iLovePDF', 'creationDate': \"D:20231215133914-03'00'\", 'modDate': 'D:20231218135108Z', 'trapped': ''}, page_content='2023\\n'),\n",
       " Document(metadata={'source': 'https://aquachile.sharepoint.com/sites/aqua_pdf/Documentos%20compartidos/compliance/AQ-PO-AUD-001%20C%C3%B3digo%20Conducta%20en%20Los%20Negocios%20AQ.pdf', 'file_path': 'https://aquachile.sharepoint.com/sites/aqua_pdf/Documentos%20compartidos/compliance/AQ-PO-AUD-001%20C%C3%B3digo%20Conducta%20en%20Los%20Negocios%20AQ.pdf', 'page': 1, 'total_pages': 25, 'format': 'PDF 1.6', 'title': 'CdC 2023', 'author': '', 'subject': '', 'keywords': '', 'creator': 'Adobe Illustrator 28.0 (Macintosh)', 'producer': 'iLovePDF', 'creationDate': \"D:20231215133914-03'00'\", 'modDate': 'D:20231218135108Z', 'trapped': ''}, page_content='AQUACHILE  S.A  Y  FILIALES\\nEl Código de Conducta en los Negocios de Empresas AquaChile recoge \\nlo que ha sido nuestra forma de actuar por más de 30 años y constituye \\nuna guía para que cada colaborador, independiente de su rango \\njerárquico, promueva un actuar basado en un comportamiento cuyos \\nsellos distintivos sean la transparencia y honestidad en cada una de las \\nactividades que desempeñamos.\\nDe esta manera,  AquaChile y sus Filiales, han deﬁnido como una de sus \\nﬁnalidades esenciales para el desarrollo de sus actividades, que en \\ncada una de las etapas de producción, elaboración, distribución y \\ncomercialización de nuestros productos, tanto los directores como los \\nejecutivos y colaboradores, cumplan siempre las normas y \\nregulaciones vigentes.\\nEn este Código de Conducta, la Compañía ha resumido aquellos \\nprincipios, valores éticos y de conducta esenciales en los que deben \\nenmarcarse las actuaciones de directores, ejecutivos y colaboradores \\nde AquaChile y sus sociedades Filiales, sin excepción.\\n>>\\n'),\n",
       " Document(metadata={'source': 'https://aquachile.sharepoint.com/sites/aqua_pdf/Documentos%20compartidos/compliance/AQ-PO-AUD-001%20C%C3%B3digo%20Conducta%20en%20Los%20Negocios%20AQ.pdf', 'file_path': 'https://aquachile.sharepoint.com/sites/aqua_pdf/Documentos%20compartidos/compliance/AQ-PO-AUD-001%20C%C3%B3digo%20Conducta%20en%20Los%20Negocios%20AQ.pdf', 'page': 2, 'total_pages': 25, 'format': 'PDF 1.6', 'title': 'CdC 2023', 'author': '', 'subject': '', 'keywords': '', 'creator': 'Adobe Illustrator 28.0 (Macintosh)', 'producer': 'iLovePDF', 'creationDate': \"D:20231215133914-03'00'\", 'modDate': 'D:20231218135108Z', 'trapped': ''}, page_content='NUESTRO COMPROMISO\\nAquaChile a través de este Código, refuerza su compromiso ético y en \\nforma explícita contra la corrupción en cualquiera de sus formas y \\nmediante cualquier tipo de conducta. Nuestro patrimonio valórico \\nsiempre ha estado determinado por cuatro pilares fundamentales:\\nLas Personas con quienes trabajamos y con las  que queremos \\ncontar;\\nLa Gestión que se traduce en la forma en que se  trabaja y \\nadministra;\\nLas Ideas que orientan las decisiones del  negocio.\\nLa Sustentabilidad, dimensión que aborda la  preocupación, el \\ntrabajo permanente y  responsable en los distintos ámbitos de \\nnuestro  quehacer cotidiano, tales como nuestra relación  con las \\ncomunidades vecinas, la preocupación  por el medio ambiente y \\nnuestra gestión  ﬁnanciera, entre otros aspectos.\\nLos integrantes de esta gran comunidad sobresalen por el alma y \\npasión que ponen en el trabajo; la honestidad y el valor de la palabra \\nempeñada; la sencillez y austeridad en la forma de ser y de actuar; el \\nespíritu emprendedor; la responsabilidad y disciplina; la conﬁanza y el \\ncompromiso con que enfrentamos nuestro quehacer.\\nTE INVITAMOS A COMPRENDER LA IMPORTANCIA DE ESTE \\nDOCUMENTO Y  A VIVIR NUESTROS VALORES. \\n>>\\n>>\\n>>\\n>>\\n'),\n",
       " Document(metadata={'source': 'https://aquachile.sharepoint.com/sites/aqua_pdf/Documentos%20compartidos/compliance/AQ-PO-AUD-001%20C%C3%B3digo%20Conducta%20en%20Los%20Negocios%20AQ.pdf', 'file_path': 'https://aquachile.sharepoint.com/sites/aqua_pdf/Documentos%20compartidos/compliance/AQ-PO-AUD-001%20C%C3%B3digo%20Conducta%20en%20Los%20Negocios%20AQ.pdf', 'page': 3, 'total_pages': 25, 'format': 'PDF 1.6', 'title': 'CdC 2023', 'author': '', 'subject': '', 'keywords': '', 'creator': 'Adobe Illustrator 28.0 (Macintosh)', 'producer': 'iLovePDF', 'creationDate': \"D:20231215133914-03'00'\", 'modDate': 'D:20231218135108Z', 'trapped': ''}, page_content='I .\\nNUESTRAS CONVICCIONES\\nLos valores que rigen nuestro actuar \\n'),\n",
       " Document(metadata={'source': 'https://aquachile.sharepoint.com/sites/aqua_pdf/Documentos%20compartidos/compliance/AQ-PO-AUD-001%20C%C3%B3digo%20Conducta%20en%20Los%20Negocios%20AQ.pdf', 'file_path': 'https://aquachile.sharepoint.com/sites/aqua_pdf/Documentos%20compartidos/compliance/AQ-PO-AUD-001%20C%C3%B3digo%20Conducta%20en%20Los%20Negocios%20AQ.pdf', 'page': 4, 'total_pages': 25, 'format': 'PDF 1.6', 'title': 'CdC 2023', 'author': '', 'subject': '', 'keywords': '', 'creator': 'Adobe Illustrator 28.0 (Macintosh)', 'producer': 'iLovePDF', 'creationDate': \"D:20231215133914-03'00'\", 'modDate': 'D:20231218135108Z', 'trapped': ''}, page_content='Compromiso: Cumplimos fehacientemente los  compromisos y \\nla palabra empeñada.\\nHonestidad: Las personas que trabajan en AquaChile muestran \\nun comportamiento íntegro y honesto en su quehacer y en la \\ninteracción con los otros.\\nCompañerismo: Las relaciones que se establecen en AquaChile \\nentre colaboradores, proveedores y miembros de la comunidad, \\nson en base a la conﬁanza, y procuramos cultivarla día a día \\nsiendo competentes, sinceros y sencillos, actuando con \\nresponsabilidad y compromiso.\\nAusteridad: Realizamos nuestro quehacer cuidando y manejando \\ncon mesura los recursos disponibles, maximizando la utilización \\nde éstos  y resguardando los bienes de la compañía.\\n>>\\n>>\\n>>\\n>>\\n>>\\n>>\\nVALORES QUE  RIGEN NUESTRO  ACTUAR \\nFomentamos que el actuar de cada uno de  nuestros \\ncolaboradores \\nsea \\nconsistente \\ncon \\n \\nnuestra \\ncultura, \\ndemostrándolo en todas las  acciones cotidianas; con los \\nmiembros de la  organización, clientes, proveedores, \\ncomunidades y diferentes grupos de interés que se relacionan \\ncon quienes nos relacionamos. \\nA esto último le llamamos integridad.\\nRespeto: Procuramos establecer relaciones de  apertura, respeto \\ny ﬂuidez con las distintas  personas y grupos al interior de la \\norganización  y su entorno, promoviendo una actitud positiva  de \\nconvivencia dentro y fuera de la empresa.\\nVocación de Servicio: Mostramos un esfuerzo  consistente por \\nescuchar y generar relaciones  duraderas con los clientes \\n(internos – externos y  consumidores), anticipándonos a sus \\nnecesidades y demandas para asegurar su satisfacción.\\nExcelencia e Innovación: Orientamos todos los  esfuerzos hacia \\nel cumplimiento del trabajo,  más allá de los estándares \\nregulares, estableciendo parámetros elevados de calidad y \\neﬁciencia. Innovamos permanentemente para  agregar valor y \\ncontribuir a la mejora continua.\\n>>\\n')]"
      ]
     },
     "execution_count": 3,
     "metadata": {},
     "output_type": "execute_result"
    }
   ],
   "source": [
    "import os\n",
    "\n",
    "from langchain_community.document_loaders import SharePointLoader\n",
    "\n",
    "loader = SharePointLoader(\n",
    "    document_library_id=os.environ.get(\"DOCUMENT_LIBRARY_ID\"),\n",
    "    auth_with_token=True,\n",
    "    folder_path=\"/compliance\",\n",
    ")\n",
    "docs = loader.load()\n",
    "docs[:5]"
   ]
  },
  {
   "cell_type": "code",
   "execution_count": 4,
   "metadata": {},
   "outputs": [
    {
     "data": {
      "text/plain": [
       "[Document(metadata={'source': 'https://aquachile.sharepoint.com/sites/aqua_pdf/Documentos%20compartidos/compliance/AQ-PO-AUD-001%20C%C3%B3digo%20Conducta%20en%20Los%20Negocios%20AQ.pdf', 'file_path': 'https://aquachile.sharepoint.com/sites/aqua_pdf/Documentos%20compartidos/compliance/AQ-PO-AUD-001%20C%C3%B3digo%20Conducta%20en%20Los%20Negocios%20AQ.pdf', 'page': 0, 'total_pages': 25, 'format': 'PDF 1.6', 'title': 'CdC 2023', 'author': '', 'subject': '', 'keywords': '', 'creator': 'Adobe Illustrator 28.0 (Macintosh)', 'producer': 'iLovePDF', 'creationDate': \"D:20231215133914-03'00'\", 'modDate': 'D:20231218135108Z', 'trapped': ''}, page_content='2023'),\n",
       " Document(metadata={'source': 'https://aquachile.sharepoint.com/sites/aqua_pdf/Documentos%20compartidos/compliance/AQ-PO-AUD-001%20C%C3%B3digo%20Conducta%20en%20Los%20Negocios%20AQ.pdf', 'file_path': 'https://aquachile.sharepoint.com/sites/aqua_pdf/Documentos%20compartidos/compliance/AQ-PO-AUD-001%20C%C3%B3digo%20Conducta%20en%20Los%20Negocios%20AQ.pdf', 'page': 1, 'total_pages': 25, 'format': 'PDF 1.6', 'title': 'CdC 2023', 'author': '', 'subject': '', 'keywords': '', 'creator': 'Adobe Illustrator 28.0 (Macintosh)', 'producer': 'iLovePDF', 'creationDate': \"D:20231215133914-03'00'\", 'modDate': 'D:20231218135108Z', 'trapped': ''}, page_content='AQUACHILE  S.A  Y  FILIALES\\nEl Código de Conducta en los Negocios de Empresas AquaChile recoge \\nlo que ha sido nuestra forma de actuar por más de 30 años y constituye \\nuna guía para que cada colaborador, independiente de su rango \\njerárquico, promueva un actuar basado en un comportamiento cuyos \\nsellos distintivos sean la transparencia y honestidad en cada una de las \\nactividades que desempeñamos.\\nDe esta manera,  AquaChile y sus Filiales, han deﬁnido como una de sus \\nﬁnalidades esenciales para el desarrollo de sus actividades, que en \\ncada una de las etapas de producción, elaboración, distribución y \\ncomercialización de nuestros productos, tanto los directores como los \\nejecutivos y colaboradores, cumplan siempre las normas y \\nregulaciones vigentes.\\nEn este Código de Conducta, la Compañía ha resumido aquellos \\nprincipios, valores éticos y de conducta esenciales en los que deben \\nenmarcarse las actuaciones de directores, ejecutivos y colaboradores'),\n",
       " Document(metadata={'source': 'https://aquachile.sharepoint.com/sites/aqua_pdf/Documentos%20compartidos/compliance/AQ-PO-AUD-001%20C%C3%B3digo%20Conducta%20en%20Los%20Negocios%20AQ.pdf', 'file_path': 'https://aquachile.sharepoint.com/sites/aqua_pdf/Documentos%20compartidos/compliance/AQ-PO-AUD-001%20C%C3%B3digo%20Conducta%20en%20Los%20Negocios%20AQ.pdf', 'page': 1, 'total_pages': 25, 'format': 'PDF 1.6', 'title': 'CdC 2023', 'author': '', 'subject': '', 'keywords': '', 'creator': 'Adobe Illustrator 28.0 (Macintosh)', 'producer': 'iLovePDF', 'creationDate': \"D:20231215133914-03'00'\", 'modDate': 'D:20231218135108Z', 'trapped': ''}, page_content='principios, valores éticos y de conducta esenciales en los que deben \\nenmarcarse las actuaciones de directores, ejecutivos y colaboradores \\nde AquaChile y sus sociedades Filiales, sin excepción.\\n>>'),\n",
       " Document(metadata={'source': 'https://aquachile.sharepoint.com/sites/aqua_pdf/Documentos%20compartidos/compliance/AQ-PO-AUD-001%20C%C3%B3digo%20Conducta%20en%20Los%20Negocios%20AQ.pdf', 'file_path': 'https://aquachile.sharepoint.com/sites/aqua_pdf/Documentos%20compartidos/compliance/AQ-PO-AUD-001%20C%C3%B3digo%20Conducta%20en%20Los%20Negocios%20AQ.pdf', 'page': 2, 'total_pages': 25, 'format': 'PDF 1.6', 'title': 'CdC 2023', 'author': '', 'subject': '', 'keywords': '', 'creator': 'Adobe Illustrator 28.0 (Macintosh)', 'producer': 'iLovePDF', 'creationDate': \"D:20231215133914-03'00'\", 'modDate': 'D:20231218135108Z', 'trapped': ''}, page_content='NUESTRO COMPROMISO\\nAquaChile a través de este Código, refuerza su compromiso ético y en \\nforma explícita contra la corrupción en cualquiera de sus formas y \\nmediante cualquier tipo de conducta. Nuestro patrimonio valórico \\nsiempre ha estado determinado por cuatro pilares fundamentales:\\nLas Personas con quienes trabajamos y con las  que queremos \\ncontar;\\nLa Gestión que se traduce en la forma en que se  trabaja y \\nadministra;\\nLas Ideas que orientan las decisiones del  negocio.\\nLa Sustentabilidad, dimensión que aborda la  preocupación, el \\ntrabajo permanente y  responsable en los distintos ámbitos de \\nnuestro  quehacer cotidiano, tales como nuestra relación  con las \\ncomunidades vecinas, la preocupación  por el medio ambiente y \\nnuestra gestión  ﬁnanciera, entre otros aspectos.\\nLos integrantes de esta gran comunidad sobresalen por el alma y \\npasión que ponen en el trabajo; la honestidad y el valor de la palabra \\nempeñada; la sencillez y austeridad en la forma de ser y de actuar; el'),\n",
       " Document(metadata={'source': 'https://aquachile.sharepoint.com/sites/aqua_pdf/Documentos%20compartidos/compliance/AQ-PO-AUD-001%20C%C3%B3digo%20Conducta%20en%20Los%20Negocios%20AQ.pdf', 'file_path': 'https://aquachile.sharepoint.com/sites/aqua_pdf/Documentos%20compartidos/compliance/AQ-PO-AUD-001%20C%C3%B3digo%20Conducta%20en%20Los%20Negocios%20AQ.pdf', 'page': 2, 'total_pages': 25, 'format': 'PDF 1.6', 'title': 'CdC 2023', 'author': '', 'subject': '', 'keywords': '', 'creator': 'Adobe Illustrator 28.0 (Macintosh)', 'producer': 'iLovePDF', 'creationDate': \"D:20231215133914-03'00'\", 'modDate': 'D:20231218135108Z', 'trapped': ''}, page_content='pasión que ponen en el trabajo; la honestidad y el valor de la palabra \\nempeñada; la sencillez y austeridad en la forma de ser y de actuar; el \\nespíritu emprendedor; la responsabilidad y disciplina; la conﬁanza y el \\ncompromiso con que enfrentamos nuestro quehacer.\\nTE INVITAMOS A COMPRENDER LA IMPORTANCIA DE ESTE \\nDOCUMENTO Y  A VIVIR NUESTROS VALORES. \\n>>\\n>>\\n>>\\n>>')]"
      ]
     },
     "execution_count": 4,
     "metadata": {},
     "output_type": "execute_result"
    }
   ],
   "source": [
    "from langchain.text_splitter import RecursiveCharacterTextSplitter\n",
    "\n",
    "splitter = RecursiveCharacterTextSplitter(chunk_size=1000, chunk_overlap=200)\n",
    "split_docs = splitter.split_documents(docs)\n",
    "split_docs[:5]"
   ]
  },
  {
   "cell_type": "code",
   "execution_count": 5,
   "metadata": {},
   "outputs": [],
   "source": [
    "from langchain_community.vectorstores import AzureSearch\n",
    "\n",
    "index_name = \"sharepoint-index\"\n",
    "\n",
    "vectorstore = AzureSearch(\n",
    "    azure_search_endpoint=AZURE_AI_SEARCH_ENDPOINT,\n",
    "    azure_search_key=AZURE_AI_SEARCH_API_KEY,\n",
    "    index_name=index_name,\n",
    "    embedding_function=EMBEDDINGS_MODEL.embed_query,\n",
    "    additional_search_client_options={\"retry_total\": 4},\n",
    ")"
   ]
  },
  {
   "cell_type": "code",
   "execution_count": 6,
   "metadata": {},
   "outputs": [
    {
     "data": {
      "text/plain": [
       "['MTE1Mzg2N2MtMzI3Ni00YTZjLTgxNmQtNmEyZmU4NjMwOTI1',\n",
       " 'OTQyMTE1ODMtODA4OC00ODFjLWEyOTAtMGEyM2IwMzJiYWRi',\n",
       " 'MDcwMDlmYjQtNDAxMi00MzA3LWIwMzgtNjhmZGYzYzFhMTFk',\n",
       " 'ZmJkZmM3N2UtYjM2Yy00Y2FmLWEwNzgtOGU5ZDRlOWI3Yjlj',\n",
       " 'MGJkMjUwOTItN2UzMC00NzVkLTlkMjUtZDc5YTY0ZmNjMmVj',\n",
       " 'MTRiYWE4ZmQtODM3Mi00MjE1LTgwNjctZTQ2NWQ5NzUxYjEx',\n",
       " 'MDdhYmZmN2MtMWFkZi00MGVmLThmMGMtYTJlMjQ1MGI3ZTEw',\n",
       " 'ZmU0YTY5ZTgtNTlhMi00OGM0LThhYWItYmMzZWY5NDczMDhj',\n",
       " 'MzE4YTI0ZmQtMzBhNi00OTgxLWIzOTAtYTY5ZTI5NDU0OWNm',\n",
       " 'MTkzYjgzNzctZDc1Ny00YWVkLTkzMGEtMzgzOWZkNDJhZDM2',\n",
       " 'ZTU3MmFiM2UtYzM0Zi00NjhlLWE4ZjctZjA0ZTdkYjMyNTBi',\n",
       " 'ZGE4NGRiNmEtZWMxMi00MTE3LThlZjMtYzlkMTUyOWYzYTAw',\n",
       " 'MWRlMDM0MzItYTQxZC00YWQ0LWI5NDAtYjRiNmQwNmUxZTE4',\n",
       " 'YWIyOTdmMTQtYjI1Yi00NzJkLTk0MDYtMzNiZTQ0NTM0ODkx',\n",
       " 'YmFhODEzNDItMDc5MC00NDU5LWE2NmUtYWRiODFiNTY5Yzgx',\n",
       " 'MGU5MWVlOGQtMDlkMy00Yjc0LThjMWEtYTAyOTUwNjRiYTdj',\n",
       " 'M2ZmYzQzZmEtZTMyYy00MDljLTk4ZjgtZTBhNGFmZjUyMTRi',\n",
       " 'ZDVjNWIzODktYjlkZi00NzA3LWE1OWItZGE1NTlkODBjMmE0',\n",
       " 'MjA0MTUzNTgtMThjNC00NTAzLTgwNTQtMjZjZTk4ZWFiNTU4',\n",
       " 'N2NhNzNhZDQtNTRjZi00M2I2LWJiMTEtYzU0Mjk2MDI3MTU1',\n",
       " 'ODFkZWU0MWUtNzAyYS00ZTllLWFjNmMtNTczYjc1YWI1MzQ2',\n",
       " 'NGQ1Y2UzYmQtMGU2ZS00NGYyLWFhZjYtYTY5YjEyNGFhN2Q0',\n",
       " 'ODZkNTUyYjktODAzOS00MmJhLThjMjMtNzZlNTM4OGFkZjZj',\n",
       " 'MGRhMmRkZjktZWNjMi00MmU5LWI3NTQtZWIxNWU2NjMzOWNk',\n",
       " 'YzM0ZjgwODItYTcyZi00MGNiLWIzNDctODAxOTM5ZmMwZTRi',\n",
       " 'Y2NmMjMyNmQtYzViOS00MzViLWI3NjMtYzQxYzdiNTAxYjgx',\n",
       " 'M2ZkOGEzYzUtN2E3ZC00ZjE5LWE4ZmQtMTQ2ODQ1ZjZmNzg1',\n",
       " 'Y2EwMjQxMGMtM2Q5Ny00NTZiLWI0ZDItNTQ0Y2JhMmM0NTM2',\n",
       " 'NzEyMjlmZDUtMGE0Mi00MzU1LTkzMWItNjgxNWEyZWE1ZDk3',\n",
       " 'MTc2OTgzNmItYzY3ZS00Y2FjLTkwNjItMmIyZmI3ZjBiYjUx',\n",
       " 'YWU3MjRiNzktZGZkOS00NWVjLThjNWYtMWVjMjY5ZGE0Mjdk',\n",
       " 'NmExYmRjYjQtNmE3Ni00NmExLTk5MjgtYzdkOTlhYmYwYzcz',\n",
       " 'Y2M3ZDRiODUtNGNlZC00ZTE1LWFmMGItMzg3MzMxMjAzNmI2',\n",
       " 'Zjg3OWJiNzgtNTNjMS00OWQ3LTg1YTYtMWEwZGEzMzcyYjJh',\n",
       " 'ZDQwNmUwNTktZDM0OS00ZWI1LTlkZTItYjhjZDBlZmJiOGJi',\n",
       " 'MDY4ODA5ODctMTJmOS00NWM3LWFiOTAtMzU2YzM5Y2RmZDg0',\n",
       " 'ZWI1MjM3ZmMtZmY5Ni00NmZkLWIyYmQtOTNiOTBjMjQyZWNj',\n",
       " 'MWU4Njk4MmYtMzgwYi00ZWY0LTkzZjYtOTIwYzc1MzBmMWIx',\n",
       " 'ODAwNzVmY2MtNzFjOC00MjQwLWFmNGUtNmQ4MGYzNzg3NzA0',\n",
       " 'ZTkwMDg0MTQtNDViNS00YWE4LWFjNmUtZDk4YjJiY2ZmZjNi',\n",
       " 'OWQ4NGYwNzctZWZlZC00NmFjLWFlMTYtYTBjOTM3OTcwNDkw',\n",
       " 'NjljMzg2ODktNTQyMi00NzFjLTk2NjUtNzk2ZGZiMGIwMTJk',\n",
       " 'OTE1NGU0M2UtOTM3Yy00NTM3LTg0OTctZTYzNDhlZGQ4ZGVm',\n",
       " 'NDY5N2RmNmQtMTQ0Mi00ZjY5LWFlZGMtYjY3MmRjNmIyYzU0',\n",
       " 'MDkzYzcyNGEtN2Y5OS00MzBiLWJiMzItNGI3ODY5YTQ1M2Zk',\n",
       " 'NTYxMTM5OGMtZWZhZS00ZjhkLWJiZjAtNDhmNmIwZmY4NjEw',\n",
       " 'YmQ3ZjViYmMtNzMxOS00YWQyLTg5NzAtYWU3ZjhkNjVhOGIw',\n",
       " 'OWRlZmZhZTUtOTE3YS00MzFmLWIzYzItZDc1YjlkZmNhNGI2',\n",
       " 'YWIzY2E4MzYtNWM0OS00ZDNiLTkyODMtY2I3OThjMTJmNGY0',\n",
       " 'OTZhNmU3ZjctNDc5OC00YWRkLWI3ZjktYThjMzQ2NGE2OTMy',\n",
       " 'N2IzNGUxNmQtNTI3Yy00ODJmLWJjZDgtNGQ5MmI5ZmNlYzUw',\n",
       " 'MWEyNTZkY2YtYjg4NS00ZmEyLTk3MTQtMDNiZmRhNzc3MGJl',\n",
       " 'MjMwNGMwZmEtODM3ZS00MGVhLWIzY2YtM2RmNDE5MGUxNzhm',\n",
       " 'YzljMjhlZWItZmI5ZS00OTc5LWJkMzktODY0NzdlZTFjYjE3',\n",
       " 'YThhNjQ5YzMtYjc4My00YzMyLTk0YjctY2Q1OGJlZDZmMDk1',\n",
       " 'MjU0YjFkOTMtNzMyMy00ZDY2LTlkNWItOTc3MzMwMWY1ZmEx',\n",
       " 'YzRjYzQ5MmMtOTBkMi00MjRlLWFmNDQtYmViZTMwZjY2ZGVm',\n",
       " 'MDU1YTJhYjQtMTNlNy00OTA0LWE0OGItOWM4NWQ2ZTlkMTEz',\n",
       " 'MDE4ODNmMmMtNjVkMy00YzYwLThjZDctYTgxNWEzNzBlOTMw',\n",
       " 'NzYxZWFhZmMtNmRkYy00YTJhLWE1MWQtM2MyYzY3OTM4YmVi',\n",
       " 'MTg4ZWM3OTMtNTExMy00NmUzLWE2NDktZTZjOTAyZjY0MzQw',\n",
       " 'NWQzYmFiNGUtZWViNS00MGMwLTlmZDEtZDJmMGI5Zjc3OWEx',\n",
       " 'NTAwYzY0ZjItZjc5Yy00MDA3LTg4MTgtZTE2Y2ZiODAwNWI3',\n",
       " 'MmZiMGNiYjUtMjJkZi00ZTA5LWExZWYtZjg3OTMyMmM5ZGY3',\n",
       " 'YTc0YmM1NDQtZjJhZi00YmZkLWE2NWQtYjQ3OTJmODgzZTM1',\n",
       " 'ZjljOTBiNjktNzg3Yi00YTYwLTk3NmItOTdkYzczNzZiMzJm',\n",
       " 'MmE2OWQ3ODgtNDI4ZC00ODkzLTk0M2YtM2FjYzZjM2UxMGU4',\n",
       " 'YWMyNTM1ZmItYTNiNS00ZGI3LWE5YmItOWM4YjRlNjdjODJj',\n",
       " 'MTI5NmUwY2UtOTI3ZS00MjZjLWExOTEtN2RlYjZiYmFlZjQ4',\n",
       " 'NzA2ZGU3NGEtZWZkNy00YzBiLWJkOGUtMGQ1YTcxNTk5NGE1',\n",
       " 'NjY4ZGVlM2EtNDQxNy00OGIyLThlNTUtN2ZkNmFhZTkzNDQy',\n",
       " 'ODk0YWZjNGQtNTNiMy00ZWViLTg4NmQtY2VjNDAyMDUwZGE1',\n",
       " 'NjA3YjEyNTctZDgyZi00MmEwLThkNDEtMDE5NjYxMDgwNWZj',\n",
       " 'YTc1MjU3NWMtZmY3ZC00NzU4LTk4MjAtYjRmZGEyMjNlMTNh',\n",
       " 'NDczYzZjNmEtMzFhNC00Mjc3LTlhNGEtYTlhZDVjN2Y5ZGRj',\n",
       " 'MmZkYTFhYTYtNTRkYi00ZTUwLWI2ZWYtMDZkYmRlODMxMmE0',\n",
       " 'MTIyYTRiNjYtOTRlOS00NWRkLWExODctMTNlYzFiODExZGFi',\n",
       " 'NDE1NmU1YWQtOTE3My00MjdjLWI1ZDUtYjUyOGY3NzdlMjNm',\n",
       " 'YjZjNjQzYjctNzg0Zi00NGRmLTk3MmUtNDJmZDc0ODBlZmQ5',\n",
       " 'YzEzYjRlOTEtODZlOC00ODcwLWE0Y2ItNzY0N2NmYzMyZWEz',\n",
       " 'MDhlMzY1MWUtOWQ5Mi00ZGQ3LThiYTYtNGQxNDk0ZDZjZjUw',\n",
       " 'Y2U0ZjQzMjYtNDVlMy00OWQ5LWIwMzAtZjVmNmFmNGJkOTEz',\n",
       " 'N2MwN2YzZTktZDg0ZS00YjNlLWEzMmYtM2Y2OTAzYTllZTBi',\n",
       " 'NTI5ZjMzMTYtZTQxZi00YWIwLTliZWYtZjc4NjA1MWJiMDI2',\n",
       " 'MmI2NjVhMjUtNTYzOC00MGZhLTgwNjAtZDliZTk0M2ZlYTQ2',\n",
       " 'YmM0YWIzMWYtMzgzYy00MjdmLTlmNzgtN2I5N2JkZmE4YTUy',\n",
       " 'YTJjZGNkNWQtZjQ0NC00NTkyLWE1OTMtYTVhNzI2ZjkxN2U2',\n",
       " 'ZDBkODA5ODMtMzZjMC00NDQyLWJhNGUtODQ3MDhmZDJhMGUz',\n",
       " 'NTNjZGYwZTMtNjllZS00Njc5LTlmYjItYmMzZGQ4MGMzNGQy',\n",
       " 'NDFiNzQxODYtZjFkOC00ZTVhLTkwMDMtYTgyYmQ2MDNiYmFj',\n",
       " 'ZjYxN2ZlMGUtYmMyZS00ZjZjLTlkMzQtOTcwZjZmMTg2ZGVm',\n",
       " 'MTIyM2RjNDMtZTUwZi00ODY1LTg3ZGYtOTEwNTJmYTdjZjNm',\n",
       " 'YmU1Mjg4ZDctNjc2OS00NzgyLWJmMjgtMDYyNTk5ZGE3OTYy',\n",
       " 'NmQ4MWYyYTktZWMwNi00MTVlLTg0MDAtZjQ5MmU1NTQ4NTk3',\n",
       " 'ODU2NzUwYzEtZjcwNC00MzY3LThiODctMmZjNGE1ZmU3N2Y3',\n",
       " 'ZTY5ZDdiZjQtMDdlMy00MDhhLTg4OTEtNGYyNzliZTNkZjg3',\n",
       " 'OWE4NzYzM2MtMDQwZS00ZDA1LWI0NjktYmNkNjdkZTVkNTc4',\n",
       " 'MGMzY2EzZTEtNmQ5Yi00ODBjLWEyN2ItNDQwOWExYWIxNzkz',\n",
       " 'ODU3YTMzNTAtNjBiOS00ZGE5LTk4M2QtNTBkZDZkNDdjMDgx',\n",
       " 'NzM3YmY3YjEtZGRjNC00MjljLThhMDgtZDNkM2U0OTUxZjEy',\n",
       " 'MzMyODA0MDgtNTc2Yi00Mzg2LWE4ZTctMjU0MWRkMmIzZGRk',\n",
       " 'N2MwMTZmMDgtZTRlMi00ZjJiLWJhYmItZjliNzhjMjhjZjkx',\n",
       " 'NTA3NmMxOTQtNjk1My00NTBhLThjZDMtMTcxZjFkNjgxY2Q4',\n",
       " 'ZGExYTI5ZjMtOGQ2OC00ODc5LWEwMDEtZGYwZWM5MjA0OGZj']"
      ]
     },
     "execution_count": 6,
     "metadata": {},
     "output_type": "execute_result"
    }
   ],
   "source": [
    "vectorstore.add_documents(split_docs)"
   ]
  },
  {
   "cell_type": "code",
   "execution_count": 7,
   "metadata": {},
   "outputs": [
    {
     "data": {
      "text/plain": [
       "'pmv.sernapesca.cl       Página: 2 / 3\\nCod. Unidad de cultivo\\nNº de peces para\\ntratamiento\\nPeso promedio\\ndurante el tratamiento\\n(g)\\nGrupo / Lote\\nVolumen a tratar (m3)\\n101\\n52.845\\n3.262\\nMA01-PA-PH-S-CAT-\\nOTO-21-M\\n0\\n102\\n49.367\\n3.390\\nMA01-PA-PH-S-CAT-\\nOTO-21-M\\n0\\n103\\n47.497\\n3.181\\nMA01-PA-PH-S-CAT-\\nOTO-21-H\\n0\\n104\\n41.054\\n3.677\\nMA01-PA-PH-S-CAT-\\nOTO-21-H\\n0\\n105\\n48.527\\n3.378\\nMA01-PA-RM-CU-S-\\nCAT-OTO-21-H\\n0\\n106\\n44.307\\n3.307\\nMA01-PA-ME-S-CAT-\\nOTO-21-M\\n0\\n107\\n48.872\\n3.317\\nMA01-PA-PH-S-CAT-\\nOTO-21-H\\n0\\n108\\n44.970\\n3.157\\nMA01-PA-ME-S-CAT-\\nOTO-21-M\\n0\\n109\\n48.953\\n3.253\\nMA01-PA-ME-S-CAT-\\nOTO-21-H\\n0\\n110\\n45.566\\n2.283\\nMA01-PA-ME-S-CAT-\\nOTO-21-M\\n0\\n111\\n48.651\\n3.070\\nMA01-PA-RM-CU-S-\\nCAT-OTO-21-H\\n0\\n112\\n51.306\\n2.882\\nMA01-LS-PH-S-CAT-\\nOTO-21-M\\n0\\n113\\n48.518\\n3.212\\nMA01-PA-ME-S-CAT-\\nOTO-21-H\\n0\\n114\\n51.167\\n2.784\\nMA01-LS-PH-S-CAT-\\nOTO-21-M\\n0\\n115\\n48.866\\n2.941\\nMA01-PA-PH-S-CAT-\\nOTO-21-H\\n0\\n116\\n50.946\\n2.731\\nMA01-LS-CB-S-CAT-\\nOTO-21-H\\n0\\n117\\n49.548\\n2.863\\nMA01-LS-PH-S-CAT-\\nOTO-21-H\\n0\\n118\\n48.787\\n2.816\\nMA01-LS-CB-S-CAT-\\nOTO-21-H\\n0'"
      ]
     },
     "execution_count": 7,
     "metadata": {},
     "output_type": "execute_result"
    }
   ],
   "source": [
    "retrieved_doc = vectorstore.similarity_search(\n",
    "    query=\"tratamiento peces\",\n",
    "    k=3,\n",
    "    search_type=\"similarity\",\n",
    ")\n",
    "retrieved_doc[0].page_content"
   ]
  }
 ],
 "metadata": {
  "kernelspec": {
   "display_name": "venv",
   "language": "python",
   "name": "python3"
  },
  "language_info": {
   "codemirror_mode": {
    "name": "ipython",
    "version": 3
   },
   "file_extension": ".py",
   "mimetype": "text/x-python",
   "name": "python",
   "nbconvert_exporter": "python",
   "pygments_lexer": "ipython3",
   "version": "3.11.9"
  }
 },
 "nbformat": 4,
 "nbformat_minor": 2
}
